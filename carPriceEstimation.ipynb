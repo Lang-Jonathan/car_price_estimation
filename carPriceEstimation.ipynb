{
 "cells": [
  {
   "cell_type": "markdown",
   "id": "weighted-requirement",
   "metadata": {},
   "source": [
    "# Project Description\n",
    "\n",
    "Rusty Bargain used car sales service is developing an app to attract new customers. In that app, you can quickly find out the market value of your car. You have access to historical data: technical specifications, trim versions, and prices. You need to build the model to determine the value.\n",
    "\n",
    "Rusty Bargain is interested in:\n",
    "- the quality of the prediction\n",
    "- the speed of the prediction\n",
    "- the time required for training\n",
    "\n",
    "## Project instructions\n",
    "1. Download and look at the data.\n",
    "2. Train different models with various hyperparameters (You should make at least two different models, but more is better. Remember, various implementations of gradient boosting don't count as different models.) The main point of this step is to compare gradient boosting methods with random forest, decision tree, and linear regression.\n",
    "3. Analyze the speed and quality of the models.\n",
    "\n",
    "   \n",
    "## Data description\n",
    "**Features**\n",
    "- DateCrawled — date profile was downloaded from the database\n",
    "- VehicleType — vehicle body type\n",
    "- RegistrationYear — vehicle registration year\n",
    "- Gearbox — gearbox type\n",
    "- Power — power (hp)\n",
    "- Model — vehicle model\n",
    "- Mileage — mileage (measured in km due to dataset's regional specifics)\n",
    "- RegistrationMonth — vehicle registration month\n",
    "- FuelType — fuel type\n",
    "- Brand — vehicle brand\n",
    "- NotRepaired — vehicle repaired or not\n",
    "- DateCreated — date of profile creation\n",
    "- NumberOfPictures — number of vehicle pictures\n",
    "- PostalCode — postal code of profile owner (user)\n",
    "- LastSeen — date of the last activity of the user\n",
    "\n",
    "**Target**\n",
    "- Price — price (Euro)\n"
   ]
  },
  {
   "cell_type": "markdown",
   "id": "musical-monroe",
   "metadata": {},
   "source": [
    "# TOC"
   ]
  },
  {
   "cell_type": "markdown",
   "id": "international-howard",
   "metadata": {},
   "source": [
    "- [Project Description](#Project-Description)\n",
    "    * [Project instructions](#Project-instructions)\n",
    "    * [Data description](#Data-description)\n",
    "- [TOC](#TOC)\n",
    "- [1. Data Importing and Inspection](#1.-Data-Importing-and-Inspection)\n",
    "- [2. Data Preprocessing](#2.-Data-Preprocessing)\n",
    "    * [2.1. Dropping cols and removing outliers](#2.1.-Dropping-cols-and-removing-outliers)\n",
    "    * [2.2. Fill in missing values](#2.2.-Fill-in-missing-values)\n",
    "    * [2.3. Feature encoding](#2.3.-Feature-encoding)\n",
    "        + [2.3.1. One Hot encoding](#2.3.1.-One-Hot-encoding)\n",
    "        + [2.3.2. Ordinal encoding](#2.3.2.-Ordinal-encoding)\n",
    "    * [2.4. Splitting data](#2.4.-Splitting-data)\n",
    "- [3. Model training and comparison](#3.-Model-training-and-comparison)\n",
    "    * [3.1. Baseline model](#3.1.-Baseline-model)\n",
    "    * [3.2. Random Forest Regressor](#3.2.-Random-Forest-Regressor)\n",
    "        + [3.2.1. Standard RFC for Benchmarking](#3.2.1.-Standard-RFC-for-Benchmarking)\n",
    "        + [3.2.2. RFC Hyperparameter Tuning](#3.2.2.-RFC-Hyperparameter-Tuning)\n",
    "    * [3.3. LightGBM](#3.3.-LightGBM)\n",
    "        + [3.3.1. Baseline standardregressor](#3.3.1.-Baseline-standardregressor)\n",
    "        + [3.3.2. Hyperparameter Tuning](#3.3.2.-Hyperparameter-Tuning)\n",
    "    * [3.4. Catboost](#3.4.-Catboost)\n",
    "        + [3.4.1. Catboost Baseline](#3.4.1.-Catboost-Baseline)\n",
    "        + [3.4.2. Catboost Hyperparameter Tuning](#3.4.2.-Catboost-Hyperparameter-Tuning)\n",
    "- [4. Conclusion](#4.-Conclusion)"
   ]
  },
  {
   "cell_type": "markdown",
   "id": "russian-receiver",
   "metadata": {},
   "source": [
    "# 1. Data Importing and Inspection"
   ]
  },
  {
   "cell_type": "code",
   "execution_count": 1,
   "id": "altered-madonna",
   "metadata": {},
   "outputs": [
    {
     "name": "stderr",
     "output_type": "stream",
     "text": [
      "C:\\Users\\JonathanLang\\.conda\\envs\\practicum\\lib\\site-packages\\numpy\\_distributor_init.py:32: UserWarning: loaded more than 1 DLL from .libs:\n",
      "C:\\Users\\JonathanLang\\.conda\\envs\\practicum\\lib\\site-packages\\numpy\\.libs\\libopenblas.PYQHXLVVQ7VESDPUVUADXEVJOBGHJPAY.gfortran-win_amd64.dll\n",
      "C:\\Users\\JonathanLang\\.conda\\envs\\practicum\\lib\\site-packages\\numpy\\.libs\\libopenblas.WCDJNK7YVMPZQ2ME2ZZHJJRJ3JIKNDB7.gfortran-win_amd64.dll\n",
      "  stacklevel=1)\n"
     ]
    }
   ],
   "source": [
    "import warnings \n",
    "import math\n",
    "import numpy as np\n",
    "import pandas as pd\n",
    "import matplotlib.pyplot as plt\n",
    "%matplotlib inline\n",
    "\n",
    "warnings.filterwarnings(\"ignore\")  \n",
    "\n",
    "import joblib\n",
    "\n",
    "from sklearn.linear_model import LinearRegression\n",
    "from sklearn.ensemble import RandomForestRegressor\n",
    "from sklearn.dummy import DummyRegressor\n",
    "import lightgbm as lgb\n",
    "from catboost import CatBoostRegressor, cv, Pool\n",
    "\n",
    "\n",
    "from sklearn.metrics import make_scorer\n",
    "from sklearn.metrics import mean_squared_error\n",
    "from sklearn.preprocessing import OrdinalEncoder\n",
    "from sklearn.model_selection import RandomizedSearchCV\n",
    "from sklearn.model_selection import train_test_split\n",
    "from sklearn.model_selection import cross_val_score, cross_validate\n",
    "from sklearn.model_selection import GridSearchCV\n",
    "from sklearn.model_selection import KFold\n",
    "\n",
    "# Activate autocomplete\n",
    "%config Completer.use_jedi = False\n",
    "\n",
    "RANDOM_STATE = 42"
   ]
  },
  {
   "cell_type": "code",
   "execution_count": 3,
   "id": "hindu-roads",
   "metadata": {},
   "outputs": [
    {
     "data": {
      "text/html": [
       "<div>\n",
       "<style scoped>\n",
       "    .dataframe tbody tr th:only-of-type {\n",
       "        vertical-align: middle;\n",
       "    }\n",
       "\n",
       "    .dataframe tbody tr th {\n",
       "        vertical-align: top;\n",
       "    }\n",
       "\n",
       "    .dataframe thead th {\n",
       "        text-align: right;\n",
       "    }\n",
       "</style>\n",
       "<table border=\"1\" class=\"dataframe\">\n",
       "  <thead>\n",
       "    <tr style=\"text-align: right;\">\n",
       "      <th></th>\n",
       "      <th>DateCrawled</th>\n",
       "      <th>Price</th>\n",
       "      <th>VehicleType</th>\n",
       "      <th>RegistrationYear</th>\n",
       "      <th>Gearbox</th>\n",
       "      <th>Power</th>\n",
       "      <th>Model</th>\n",
       "      <th>Mileage</th>\n",
       "      <th>RegistrationMonth</th>\n",
       "      <th>FuelType</th>\n",
       "      <th>Brand</th>\n",
       "      <th>NotRepaired</th>\n",
       "      <th>DateCreated</th>\n",
       "      <th>NumberOfPictures</th>\n",
       "      <th>PostalCode</th>\n",
       "      <th>LastSeen</th>\n",
       "    </tr>\n",
       "  </thead>\n",
       "  <tbody>\n",
       "    <tr>\n",
       "      <th>0</th>\n",
       "      <td>24/03/2016 11:52</td>\n",
       "      <td>480</td>\n",
       "      <td>NaN</td>\n",
       "      <td>1993</td>\n",
       "      <td>manual</td>\n",
       "      <td>0</td>\n",
       "      <td>golf</td>\n",
       "      <td>150000</td>\n",
       "      <td>0</td>\n",
       "      <td>petrol</td>\n",
       "      <td>volkswagen</td>\n",
       "      <td>NaN</td>\n",
       "      <td>24/03/2016 00:00</td>\n",
       "      <td>0</td>\n",
       "      <td>70435</td>\n",
       "      <td>07/04/2016 03:16</td>\n",
       "    </tr>\n",
       "    <tr>\n",
       "      <th>1</th>\n",
       "      <td>24/03/2016 10:58</td>\n",
       "      <td>18300</td>\n",
       "      <td>coupe</td>\n",
       "      <td>2011</td>\n",
       "      <td>manual</td>\n",
       "      <td>190</td>\n",
       "      <td>NaN</td>\n",
       "      <td>125000</td>\n",
       "      <td>5</td>\n",
       "      <td>gasoline</td>\n",
       "      <td>audi</td>\n",
       "      <td>yes</td>\n",
       "      <td>24/03/2016 00:00</td>\n",
       "      <td>0</td>\n",
       "      <td>66954</td>\n",
       "      <td>07/04/2016 01:46</td>\n",
       "    </tr>\n",
       "    <tr>\n",
       "      <th>2</th>\n",
       "      <td>14/03/2016 12:52</td>\n",
       "      <td>9800</td>\n",
       "      <td>suv</td>\n",
       "      <td>2004</td>\n",
       "      <td>auto</td>\n",
       "      <td>163</td>\n",
       "      <td>grand</td>\n",
       "      <td>125000</td>\n",
       "      <td>8</td>\n",
       "      <td>gasoline</td>\n",
       "      <td>jeep</td>\n",
       "      <td>NaN</td>\n",
       "      <td>14/03/2016 00:00</td>\n",
       "      <td>0</td>\n",
       "      <td>90480</td>\n",
       "      <td>05/04/2016 12:47</td>\n",
       "    </tr>\n",
       "    <tr>\n",
       "      <th>3</th>\n",
       "      <td>17/03/2016 16:54</td>\n",
       "      <td>1500</td>\n",
       "      <td>small</td>\n",
       "      <td>2001</td>\n",
       "      <td>manual</td>\n",
       "      <td>75</td>\n",
       "      <td>golf</td>\n",
       "      <td>150000</td>\n",
       "      <td>6</td>\n",
       "      <td>petrol</td>\n",
       "      <td>volkswagen</td>\n",
       "      <td>no</td>\n",
       "      <td>17/03/2016 00:00</td>\n",
       "      <td>0</td>\n",
       "      <td>91074</td>\n",
       "      <td>17/03/2016 17:40</td>\n",
       "    </tr>\n",
       "    <tr>\n",
       "      <th>4</th>\n",
       "      <td>31/03/2016 17:25</td>\n",
       "      <td>3600</td>\n",
       "      <td>small</td>\n",
       "      <td>2008</td>\n",
       "      <td>manual</td>\n",
       "      <td>69</td>\n",
       "      <td>fabia</td>\n",
       "      <td>90000</td>\n",
       "      <td>7</td>\n",
       "      <td>gasoline</td>\n",
       "      <td>skoda</td>\n",
       "      <td>no</td>\n",
       "      <td>31/03/2016 00:00</td>\n",
       "      <td>0</td>\n",
       "      <td>60437</td>\n",
       "      <td>06/04/2016 10:17</td>\n",
       "    </tr>\n",
       "  </tbody>\n",
       "</table>\n",
       "</div>"
      ],
      "text/plain": [
       "        DateCrawled  Price VehicleType  RegistrationYear Gearbox  Power  \\\n",
       "0  24/03/2016 11:52    480         NaN              1993  manual      0   \n",
       "1  24/03/2016 10:58  18300       coupe              2011  manual    190   \n",
       "2  14/03/2016 12:52   9800         suv              2004    auto    163   \n",
       "3  17/03/2016 16:54   1500       small              2001  manual     75   \n",
       "4  31/03/2016 17:25   3600       small              2008  manual     69   \n",
       "\n",
       "   Model  Mileage  RegistrationMonth  FuelType       Brand NotRepaired  \\\n",
       "0   golf   150000                  0    petrol  volkswagen         NaN   \n",
       "1    NaN   125000                  5  gasoline        audi         yes   \n",
       "2  grand   125000                  8  gasoline        jeep         NaN   \n",
       "3   golf   150000                  6    petrol  volkswagen          no   \n",
       "4  fabia    90000                  7  gasoline       skoda          no   \n",
       "\n",
       "        DateCreated  NumberOfPictures  PostalCode          LastSeen  \n",
       "0  24/03/2016 00:00                 0       70435  07/04/2016 03:16  \n",
       "1  24/03/2016 00:00                 0       66954  07/04/2016 01:46  \n",
       "2  14/03/2016 00:00                 0       90480  05/04/2016 12:47  \n",
       "3  17/03/2016 00:00                 0       91074  17/03/2016 17:40  \n",
       "4  31/03/2016 00:00                 0       60437  06/04/2016 10:17  "
      ]
     },
     "metadata": {},
     "output_type": "display_data"
    }
   ],
   "source": [
    "try:\n",
    "    df = pd.read_csv('./datasets/car_data.csv')\n",
    "except:\n",
    "    df = pd.read_csv('https://code.s3.yandex.net/datasets/car_data.csv')\n",
    "display(df.head())"
   ]
  },
  {
   "cell_type": "code",
   "execution_count": 4,
   "id": "fuzzy-simon",
   "metadata": {},
   "outputs": [
    {
     "data": {
      "text/plain": [
       "DateCrawled          15470\n",
       "Price                 3731\n",
       "VehicleType              8\n",
       "RegistrationYear       151\n",
       "Gearbox                  2\n",
       "Power                  712\n",
       "Model                  250\n",
       "Mileage                 13\n",
       "RegistrationMonth       13\n",
       "FuelType                 7\n",
       "Brand                   40\n",
       "NotRepaired              2\n",
       "DateCreated            109\n",
       "NumberOfPictures         1\n",
       "PostalCode            8143\n",
       "LastSeen             18592\n",
       "dtype: int64"
      ]
     },
     "execution_count": 4,
     "metadata": {},
     "output_type": "execute_result"
    }
   ],
   "source": [
    "df.nunique()"
   ]
  },
  {
   "cell_type": "code",
   "execution_count": 5,
   "id": "expensive-pioneer",
   "metadata": {},
   "outputs": [
    {
     "name": "stdout",
     "output_type": "stream",
     "text": [
      "<class 'pandas.core.frame.DataFrame'>\n",
      "RangeIndex: 354369 entries, 0 to 354368\n",
      "Data columns (total 16 columns):\n",
      " #   Column             Non-Null Count   Dtype \n",
      "---  ------             --------------   ----- \n",
      " 0   DateCrawled        354369 non-null  object\n",
      " 1   Price              354369 non-null  int64 \n",
      " 2   VehicleType        316879 non-null  object\n",
      " 3   RegistrationYear   354369 non-null  int64 \n",
      " 4   Gearbox            334536 non-null  object\n",
      " 5   Power              354369 non-null  int64 \n",
      " 6   Model              334664 non-null  object\n",
      " 7   Mileage            354369 non-null  int64 \n",
      " 8   RegistrationMonth  354369 non-null  int64 \n",
      " 9   FuelType           321474 non-null  object\n",
      " 10  Brand              354369 non-null  object\n",
      " 11  NotRepaired        283215 non-null  object\n",
      " 12  DateCreated        354369 non-null  object\n",
      " 13  NumberOfPictures   354369 non-null  int64 \n",
      " 14  PostalCode         354369 non-null  int64 \n",
      " 15  LastSeen           354369 non-null  object\n",
      "dtypes: int64(7), object(9)\n",
      "memory usage: 43.3+ MB\n"
     ]
    }
   ],
   "source": [
    "df.info()"
   ]
  },
  {
   "cell_type": "code",
   "execution_count": 6,
   "id": "domestic-elite",
   "metadata": {},
   "outputs": [
    {
     "data": {
      "text/plain": [
       "DateCrawled              0\n",
       "Price                    0\n",
       "VehicleType          37490\n",
       "RegistrationYear         0\n",
       "Gearbox              19833\n",
       "Power                    0\n",
       "Model                19705\n",
       "Mileage                  0\n",
       "RegistrationMonth        0\n",
       "FuelType             32895\n",
       "Brand                    0\n",
       "NotRepaired          71154\n",
       "DateCreated              0\n",
       "NumberOfPictures         0\n",
       "PostalCode               0\n",
       "LastSeen                 0\n",
       "dtype: int64"
      ]
     },
     "execution_count": 6,
     "metadata": {},
     "output_type": "execute_result"
    }
   ],
   "source": [
    "df.isna().sum()"
   ]
  },
  {
   "cell_type": "markdown",
   "id": "important-puzzle",
   "metadata": {},
   "source": [
    "> **Observations:**\n",
    "> -  DateCrawled does not provide any information to the target because they are not related. (Because DateCrwawled just gives information when the datapoint was downloaded from the database), same applies for RegistrationMonth, LastSeen.  \n",
    "\\-\\> Therefore they will be dropped\n",
    "> - PostalCode are unique values and would confuse the model\n",
    "> - There are missing values in the data but only for the strings, all numerical values are complete"
   ]
  },
  {
   "cell_type": "code",
   "execution_count": 7,
   "id": "turned-prize",
   "metadata": {},
   "outputs": [
    {
     "data": {
      "text/html": [
       "<div>\n",
       "<style scoped>\n",
       "    .dataframe tbody tr th:only-of-type {\n",
       "        vertical-align: middle;\n",
       "    }\n",
       "\n",
       "    .dataframe tbody tr th {\n",
       "        vertical-align: top;\n",
       "    }\n",
       "\n",
       "    .dataframe thead th {\n",
       "        text-align: right;\n",
       "    }\n",
       "</style>\n",
       "<table border=\"1\" class=\"dataframe\">\n",
       "  <thead>\n",
       "    <tr style=\"text-align: right;\">\n",
       "      <th></th>\n",
       "      <th>Price</th>\n",
       "      <th>RegistrationYear</th>\n",
       "      <th>Power</th>\n",
       "      <th>Mileage</th>\n",
       "      <th>RegistrationMonth</th>\n",
       "      <th>NumberOfPictures</th>\n",
       "      <th>PostalCode</th>\n",
       "    </tr>\n",
       "  </thead>\n",
       "  <tbody>\n",
       "    <tr>\n",
       "      <th>count</th>\n",
       "      <td>354369.000000</td>\n",
       "      <td>354369.000000</td>\n",
       "      <td>354369.000000</td>\n",
       "      <td>354369.000000</td>\n",
       "      <td>354369.000000</td>\n",
       "      <td>354369.0</td>\n",
       "      <td>354369.000000</td>\n",
       "    </tr>\n",
       "    <tr>\n",
       "      <th>mean</th>\n",
       "      <td>4416.656776</td>\n",
       "      <td>2004.234448</td>\n",
       "      <td>110.094337</td>\n",
       "      <td>128211.172535</td>\n",
       "      <td>5.714645</td>\n",
       "      <td>0.0</td>\n",
       "      <td>50508.689087</td>\n",
       "    </tr>\n",
       "    <tr>\n",
       "      <th>std</th>\n",
       "      <td>4514.158514</td>\n",
       "      <td>90.227958</td>\n",
       "      <td>189.850405</td>\n",
       "      <td>37905.341530</td>\n",
       "      <td>3.726421</td>\n",
       "      <td>0.0</td>\n",
       "      <td>25783.096248</td>\n",
       "    </tr>\n",
       "    <tr>\n",
       "      <th>min</th>\n",
       "      <td>0.000000</td>\n",
       "      <td>1000.000000</td>\n",
       "      <td>0.000000</td>\n",
       "      <td>5000.000000</td>\n",
       "      <td>0.000000</td>\n",
       "      <td>0.0</td>\n",
       "      <td>1067.000000</td>\n",
       "    </tr>\n",
       "    <tr>\n",
       "      <th>25%</th>\n",
       "      <td>1050.000000</td>\n",
       "      <td>1999.000000</td>\n",
       "      <td>69.000000</td>\n",
       "      <td>125000.000000</td>\n",
       "      <td>3.000000</td>\n",
       "      <td>0.0</td>\n",
       "      <td>30165.000000</td>\n",
       "    </tr>\n",
       "    <tr>\n",
       "      <th>50%</th>\n",
       "      <td>2700.000000</td>\n",
       "      <td>2003.000000</td>\n",
       "      <td>105.000000</td>\n",
       "      <td>150000.000000</td>\n",
       "      <td>6.000000</td>\n",
       "      <td>0.0</td>\n",
       "      <td>49413.000000</td>\n",
       "    </tr>\n",
       "    <tr>\n",
       "      <th>75%</th>\n",
       "      <td>6400.000000</td>\n",
       "      <td>2008.000000</td>\n",
       "      <td>143.000000</td>\n",
       "      <td>150000.000000</td>\n",
       "      <td>9.000000</td>\n",
       "      <td>0.0</td>\n",
       "      <td>71083.000000</td>\n",
       "    </tr>\n",
       "    <tr>\n",
       "      <th>max</th>\n",
       "      <td>20000.000000</td>\n",
       "      <td>9999.000000</td>\n",
       "      <td>20000.000000</td>\n",
       "      <td>150000.000000</td>\n",
       "      <td>12.000000</td>\n",
       "      <td>0.0</td>\n",
       "      <td>99998.000000</td>\n",
       "    </tr>\n",
       "  </tbody>\n",
       "</table>\n",
       "</div>"
      ],
      "text/plain": [
       "               Price  RegistrationYear          Power        Mileage  \\\n",
       "count  354369.000000     354369.000000  354369.000000  354369.000000   \n",
       "mean     4416.656776       2004.234448     110.094337  128211.172535   \n",
       "std      4514.158514         90.227958     189.850405   37905.341530   \n",
       "min         0.000000       1000.000000       0.000000    5000.000000   \n",
       "25%      1050.000000       1999.000000      69.000000  125000.000000   \n",
       "50%      2700.000000       2003.000000     105.000000  150000.000000   \n",
       "75%      6400.000000       2008.000000     143.000000  150000.000000   \n",
       "max     20000.000000       9999.000000   20000.000000  150000.000000   \n",
       "\n",
       "       RegistrationMonth  NumberOfPictures     PostalCode  \n",
       "count      354369.000000          354369.0  354369.000000  \n",
       "mean            5.714645               0.0   50508.689087  \n",
       "std             3.726421               0.0   25783.096248  \n",
       "min             0.000000               0.0    1067.000000  \n",
       "25%             3.000000               0.0   30165.000000  \n",
       "50%             6.000000               0.0   49413.000000  \n",
       "75%             9.000000               0.0   71083.000000  \n",
       "max            12.000000               0.0   99998.000000  "
      ]
     },
     "execution_count": 7,
     "metadata": {},
     "output_type": "execute_result"
    }
   ],
   "source": [
    "df.describe()"
   ]
  },
  {
   "cell_type": "code",
   "execution_count": 8,
   "id": "moderate-freight",
   "metadata": {},
   "outputs": [
    {
     "data": {
      "text/plain": [
       "0"
      ]
     },
     "execution_count": 8,
     "metadata": {},
     "output_type": "execute_result"
    }
   ],
   "source": [
    "df['NumberOfPictures'].max()"
   ]
  },
  {
   "cell_type": "markdown",
   "id": "presidential-mustang",
   "metadata": {},
   "source": [
    "> **Observations:**\n",
    "> - The collumn NumberOfPictures can be dropped because all entries are zero\n",
    "> - The dataset contains outliers and invalid data (eg. registration year)"
   ]
  },
  {
   "cell_type": "markdown",
   "id": "amateur-mechanics",
   "metadata": {},
   "source": [
    "# 2. Data Preprocessing"
   ]
  },
  {
   "cell_type": "markdown",
   "id": "opponent-parade",
   "metadata": {},
   "source": [
    "## 2.1. Dropping cols and removing outliers\n",
    "> In this step the collumns which are not providing benefficial value to the project will be dropped."
   ]
  },
  {
   "cell_type": "code",
   "execution_count": 9,
   "id": "wired-single",
   "metadata": {},
   "outputs": [
    {
     "data": {
      "text/html": [
       "<div>\n",
       "<style scoped>\n",
       "    .dataframe tbody tr th:only-of-type {\n",
       "        vertical-align: middle;\n",
       "    }\n",
       "\n",
       "    .dataframe tbody tr th {\n",
       "        vertical-align: top;\n",
       "    }\n",
       "\n",
       "    .dataframe thead th {\n",
       "        text-align: right;\n",
       "    }\n",
       "</style>\n",
       "<table border=\"1\" class=\"dataframe\">\n",
       "  <thead>\n",
       "    <tr style=\"text-align: right;\">\n",
       "      <th></th>\n",
       "      <th>Price</th>\n",
       "      <th>VehicleType</th>\n",
       "      <th>RegistrationYear</th>\n",
       "      <th>Gearbox</th>\n",
       "      <th>Power</th>\n",
       "      <th>Model</th>\n",
       "      <th>Mileage</th>\n",
       "      <th>RegistrationMonth</th>\n",
       "      <th>FuelType</th>\n",
       "      <th>Brand</th>\n",
       "      <th>NotRepaired</th>\n",
       "    </tr>\n",
       "  </thead>\n",
       "  <tbody>\n",
       "    <tr>\n",
       "      <th>0</th>\n",
       "      <td>480</td>\n",
       "      <td>NaN</td>\n",
       "      <td>1993</td>\n",
       "      <td>manual</td>\n",
       "      <td>0</td>\n",
       "      <td>golf</td>\n",
       "      <td>150000</td>\n",
       "      <td>0</td>\n",
       "      <td>petrol</td>\n",
       "      <td>volkswagen</td>\n",
       "      <td>NaN</td>\n",
       "    </tr>\n",
       "    <tr>\n",
       "      <th>1</th>\n",
       "      <td>18300</td>\n",
       "      <td>coupe</td>\n",
       "      <td>2011</td>\n",
       "      <td>manual</td>\n",
       "      <td>190</td>\n",
       "      <td>NaN</td>\n",
       "      <td>125000</td>\n",
       "      <td>5</td>\n",
       "      <td>gasoline</td>\n",
       "      <td>audi</td>\n",
       "      <td>yes</td>\n",
       "    </tr>\n",
       "    <tr>\n",
       "      <th>2</th>\n",
       "      <td>9800</td>\n",
       "      <td>suv</td>\n",
       "      <td>2004</td>\n",
       "      <td>auto</td>\n",
       "      <td>163</td>\n",
       "      <td>grand</td>\n",
       "      <td>125000</td>\n",
       "      <td>8</td>\n",
       "      <td>gasoline</td>\n",
       "      <td>jeep</td>\n",
       "      <td>NaN</td>\n",
       "    </tr>\n",
       "    <tr>\n",
       "      <th>3</th>\n",
       "      <td>1500</td>\n",
       "      <td>small</td>\n",
       "      <td>2001</td>\n",
       "      <td>manual</td>\n",
       "      <td>75</td>\n",
       "      <td>golf</td>\n",
       "      <td>150000</td>\n",
       "      <td>6</td>\n",
       "      <td>petrol</td>\n",
       "      <td>volkswagen</td>\n",
       "      <td>no</td>\n",
       "    </tr>\n",
       "    <tr>\n",
       "      <th>4</th>\n",
       "      <td>3600</td>\n",
       "      <td>small</td>\n",
       "      <td>2008</td>\n",
       "      <td>manual</td>\n",
       "      <td>69</td>\n",
       "      <td>fabia</td>\n",
       "      <td>90000</td>\n",
       "      <td>7</td>\n",
       "      <td>gasoline</td>\n",
       "      <td>skoda</td>\n",
       "      <td>no</td>\n",
       "    </tr>\n",
       "  </tbody>\n",
       "</table>\n",
       "</div>"
      ],
      "text/plain": [
       "   Price VehicleType  RegistrationYear Gearbox  Power  Model  Mileage  \\\n",
       "0    480         NaN              1993  manual      0   golf   150000   \n",
       "1  18300       coupe              2011  manual    190    NaN   125000   \n",
       "2   9800         suv              2004    auto    163  grand   125000   \n",
       "3   1500       small              2001  manual     75   golf   150000   \n",
       "4   3600       small              2008  manual     69  fabia    90000   \n",
       "\n",
       "   RegistrationMonth  FuelType       Brand NotRepaired  \n",
       "0                  0    petrol  volkswagen         NaN  \n",
       "1                  5  gasoline        audi         yes  \n",
       "2                  8  gasoline        jeep         NaN  \n",
       "3                  6    petrol  volkswagen          no  \n",
       "4                  7  gasoline       skoda          no  "
      ]
     },
     "execution_count": 9,
     "metadata": {},
     "output_type": "execute_result"
    }
   ],
   "source": [
    "# Dropping unneccessary cols\n",
    "toDrop = ['DateCrawled', 'DateCreated', 'PostalCode', 'LastSeen', 'NumberOfPictures']\n",
    "df = df.drop(toDrop, axis=1)\n",
    "df.head()"
   ]
  },
  {
   "cell_type": "code",
   "execution_count": 10,
   "id": "thousand-qatar",
   "metadata": {},
   "outputs": [
    {
     "data": {
      "image/png": "[encoded data removed]",
      "text/plain": [
       "<Figure size 432x288 with 1 Axes>"
      ]
     },
     "metadata": {
      "needs_background": "light"
     },
     "output_type": "display_data"
    }
   ],
   "source": [
    "# Removing all cars with registration which is more than 2 years ahead (depending on country registrated anually or every two)\n",
    "# And older than 1886 (Year of first car built for considering oldhimers)\n",
    "df = df.query('1886 <= RegistrationYear <= 2023')\n",
    "df.RegistrationYear.plot(kind='box');"
   ]
  },
  {
   "cell_type": "markdown",
   "id": "entitled-alarm",
   "metadata": {},
   "source": [
    "> Age seems to be legit now"
   ]
  },
  {
   "cell_type": "code",
   "execution_count": 11,
   "id": "alternate-canon",
   "metadata": {},
   "outputs": [
    {
     "data": {
      "image/png": "[encoded data removed]",
      "text/plain": [
       "<Figure size 432x288 with 1 Axes>"
      ]
     },
     "metadata": {
      "needs_background": "light"
     },
     "output_type": "display_data"
    }
   ],
   "source": [
    "# Removing cars with zero Horsepowers because faulty entrie, same for cars with more than 800  \n",
    "df.Power.plot(kind='box')\n",
    "df = df.query('0 < Power <= 800')"
   ]
  },
  {
   "cell_type": "markdown",
   "id": "resident-artist",
   "metadata": {},
   "source": [
    "## 2.2. Fill in missing values\n",
    "> All missing values are in the categorical columns and strings.   \n",
    "> They will be investigated in detail and filled in this step. "
   ]
  },
  {
   "cell_type": "code",
   "execution_count": 12,
   "id": "informed-microphone",
   "metadata": {},
   "outputs": [],
   "source": [
    "# Filling missing categorical values\n",
    "df.fillna('unknown', inplace=True)"
   ]
  },
  {
   "cell_type": "code",
   "execution_count": 13,
   "id": "outer-colon",
   "metadata": {},
   "outputs": [
    {
     "data": {
      "text/plain": [
       "petrol      196178\n",
       "gasoline     90647\n",
       "unknown      21147\n",
       "lpg           4910\n",
       "cng            504\n",
       "hybrid         207\n",
       "other          102\n",
       "electric        78\n",
       "Name: FuelType, dtype: int64"
      ]
     },
     "execution_count": 13,
     "metadata": {},
     "output_type": "execute_result"
    }
   ],
   "source": [
    "# Investigating fuel types\n",
    "df.FuelType.value_counts()"
   ]
  },
  {
   "cell_type": "markdown",
   "id": "desirable-barrier",
   "metadata": {},
   "source": [
    "> - Petrol and gasoline are the same thing, one is american english, the other one british english, thus they will be merged.  \n",
    "> - It is Suspicious that there are no disel cars, maybe the unknown category contains them. Therefore it need to be spoken with the data engineer"
   ]
  },
  {
   "cell_type": "code",
   "execution_count": 14,
   "id": "absolute-newfoundland",
   "metadata": {},
   "outputs": [
    {
     "data": {
      "text/plain": [
       "gasoline    286825\n",
       "unknown      21147\n",
       "lpg           4910\n",
       "cng            504\n",
       "hybrid         207\n",
       "other          102\n",
       "electric        78\n",
       "Name: FuelType, dtype: int64"
      ]
     },
     "execution_count": 14,
     "metadata": {},
     "output_type": "execute_result"
    }
   ],
   "source": [
    "df.FuelType.replace('petrol', 'gasoline', inplace=True)\n",
    "df.FuelType.value_counts()"
   ]
  },
  {
   "cell_type": "markdown",
   "id": "greek-reputation",
   "metadata": {},
   "source": [
    "## 2.3. Feature encoding\n",
    "> In this chapter the categorical features will be encoded in preparation for the model training.  \n",
    "> They will be ordinal encoded for Random Forests, LightGBM, CatBoost and OHE for XGBoost"
   ]
  },
  {
   "cell_type": "code",
   "execution_count": 15,
   "id": "proved-sewing",
   "metadata": {},
   "outputs": [],
   "source": [
    "# Assembling Categorical cols to encode\n",
    "categorical_features = [\n",
    "    'VehicleType',\n",
    "    'Gearbox', \n",
    "    'Model',\n",
    "    'FuelType', \n",
    "    'Brand',\n",
    "    'NotRepaired', \n",
    "]"
   ]
  },
  {
   "cell_type": "markdown",
   "id": "arbitrary-islam",
   "metadata": {},
   "source": [
    "### 2.3.1. One Hot encoding\n",
    "> In this step the df has been onehot encoded for later training of XGBoost"
   ]
  },
  {
   "cell_type": "code",
   "execution_count": 16,
   "id": "cooperative-recovery",
   "metadata": {},
   "outputs": [
    {
     "data": {
      "text/plain": [
       "VehicleType      9\n",
       "Gearbox          3\n",
       "Model          250\n",
       "FuelType         7\n",
       "Brand           40\n",
       "NotRepaired      3\n",
       "dtype: int64"
      ]
     },
     "execution_count": 16,
     "metadata": {},
     "output_type": "execute_result"
    }
   ],
   "source": [
    "# Investigating number of unique categories\n",
    "df[categorical_features].nunique()"
   ]
  },
  {
   "cell_type": "markdown",
   "id": "otherwise-regard",
   "metadata": {},
   "source": [
    "> Brand and Model will be dropped for ohe because the dataframe would get too large to process it effectively"
   ]
  },
  {
   "cell_type": "code",
   "execution_count": 17,
   "id": "increasing-escape",
   "metadata": {},
   "outputs": [
    {
     "data": {
      "text/html": [
       "<div>\n",
       "<style scoped>\n",
       "    .dataframe tbody tr th:only-of-type {\n",
       "        vertical-align: middle;\n",
       "    }\n",
       "\n",
       "    .dataframe tbody tr th {\n",
       "        vertical-align: top;\n",
       "    }\n",
       "\n",
       "    .dataframe thead th {\n",
       "        text-align: right;\n",
       "    }\n",
       "</style>\n",
       "<table border=\"1\" class=\"dataframe\">\n",
       "  <thead>\n",
       "    <tr style=\"text-align: right;\">\n",
       "      <th></th>\n",
       "      <th>Price</th>\n",
       "      <th>RegistrationYear</th>\n",
       "      <th>Power</th>\n",
       "      <th>Mileage</th>\n",
       "      <th>RegistrationMonth</th>\n",
       "      <th>VehicleType_bus</th>\n",
       "      <th>VehicleType_convertible</th>\n",
       "      <th>VehicleType_coupe</th>\n",
       "      <th>VehicleType_other</th>\n",
       "      <th>VehicleType_sedan</th>\n",
       "      <th>...</th>\n",
       "      <th>FuelType_cng</th>\n",
       "      <th>FuelType_electric</th>\n",
       "      <th>FuelType_gasoline</th>\n",
       "      <th>FuelType_hybrid</th>\n",
       "      <th>FuelType_lpg</th>\n",
       "      <th>FuelType_other</th>\n",
       "      <th>FuelType_unknown</th>\n",
       "      <th>NotRepaired_no</th>\n",
       "      <th>NotRepaired_unknown</th>\n",
       "      <th>NotRepaired_yes</th>\n",
       "    </tr>\n",
       "  </thead>\n",
       "  <tbody>\n",
       "    <tr>\n",
       "      <th>1</th>\n",
       "      <td>18300</td>\n",
       "      <td>2011</td>\n",
       "      <td>190</td>\n",
       "      <td>125000</td>\n",
       "      <td>5</td>\n",
       "      <td>0</td>\n",
       "      <td>0</td>\n",
       "      <td>1</td>\n",
       "      <td>0</td>\n",
       "      <td>0</td>\n",
       "      <td>...</td>\n",
       "      <td>0</td>\n",
       "      <td>0</td>\n",
       "      <td>1</td>\n",
       "      <td>0</td>\n",
       "      <td>0</td>\n",
       "      <td>0</td>\n",
       "      <td>0</td>\n",
       "      <td>0</td>\n",
       "      <td>0</td>\n",
       "      <td>1</td>\n",
       "    </tr>\n",
       "    <tr>\n",
       "      <th>2</th>\n",
       "      <td>9800</td>\n",
       "      <td>2004</td>\n",
       "      <td>163</td>\n",
       "      <td>125000</td>\n",
       "      <td>8</td>\n",
       "      <td>0</td>\n",
       "      <td>0</td>\n",
       "      <td>0</td>\n",
       "      <td>0</td>\n",
       "      <td>0</td>\n",
       "      <td>...</td>\n",
       "      <td>0</td>\n",
       "      <td>0</td>\n",
       "      <td>1</td>\n",
       "      <td>0</td>\n",
       "      <td>0</td>\n",
       "      <td>0</td>\n",
       "      <td>0</td>\n",
       "      <td>0</td>\n",
       "      <td>1</td>\n",
       "      <td>0</td>\n",
       "    </tr>\n",
       "    <tr>\n",
       "      <th>3</th>\n",
       "      <td>1500</td>\n",
       "      <td>2001</td>\n",
       "      <td>75</td>\n",
       "      <td>150000</td>\n",
       "      <td>6</td>\n",
       "      <td>0</td>\n",
       "      <td>0</td>\n",
       "      <td>0</td>\n",
       "      <td>0</td>\n",
       "      <td>0</td>\n",
       "      <td>...</td>\n",
       "      <td>0</td>\n",
       "      <td>0</td>\n",
       "      <td>1</td>\n",
       "      <td>0</td>\n",
       "      <td>0</td>\n",
       "      <td>0</td>\n",
       "      <td>0</td>\n",
       "      <td>1</td>\n",
       "      <td>0</td>\n",
       "      <td>0</td>\n",
       "    </tr>\n",
       "    <tr>\n",
       "      <th>4</th>\n",
       "      <td>3600</td>\n",
       "      <td>2008</td>\n",
       "      <td>69</td>\n",
       "      <td>90000</td>\n",
       "      <td>7</td>\n",
       "      <td>0</td>\n",
       "      <td>0</td>\n",
       "      <td>0</td>\n",
       "      <td>0</td>\n",
       "      <td>0</td>\n",
       "      <td>...</td>\n",
       "      <td>0</td>\n",
       "      <td>0</td>\n",
       "      <td>1</td>\n",
       "      <td>0</td>\n",
       "      <td>0</td>\n",
       "      <td>0</td>\n",
       "      <td>0</td>\n",
       "      <td>1</td>\n",
       "      <td>0</td>\n",
       "      <td>0</td>\n",
       "    </tr>\n",
       "    <tr>\n",
       "      <th>5</th>\n",
       "      <td>650</td>\n",
       "      <td>1995</td>\n",
       "      <td>102</td>\n",
       "      <td>150000</td>\n",
       "      <td>10</td>\n",
       "      <td>0</td>\n",
       "      <td>0</td>\n",
       "      <td>0</td>\n",
       "      <td>0</td>\n",
       "      <td>1</td>\n",
       "      <td>...</td>\n",
       "      <td>0</td>\n",
       "      <td>0</td>\n",
       "      <td>1</td>\n",
       "      <td>0</td>\n",
       "      <td>0</td>\n",
       "      <td>0</td>\n",
       "      <td>0</td>\n",
       "      <td>0</td>\n",
       "      <td>0</td>\n",
       "      <td>1</td>\n",
       "    </tr>\n",
       "  </tbody>\n",
       "</table>\n",
       "<p>5 rows × 27 columns</p>\n",
       "</div>"
      ],
      "text/plain": [
       "   Price  RegistrationYear  Power  Mileage  RegistrationMonth  \\\n",
       "1  18300              2011    190   125000                  5   \n",
       "2   9800              2004    163   125000                  8   \n",
       "3   1500              2001     75   150000                  6   \n",
       "4   3600              2008     69    90000                  7   \n",
       "5    650              1995    102   150000                 10   \n",
       "\n",
       "   VehicleType_bus  VehicleType_convertible  VehicleType_coupe  \\\n",
       "1                0                        0                  1   \n",
       "2                0                        0                  0   \n",
       "3                0                        0                  0   \n",
       "4                0                        0                  0   \n",
       "5                0                        0                  0   \n",
       "\n",
       "   VehicleType_other  VehicleType_sedan  ...  FuelType_cng  FuelType_electric  \\\n",
       "1                  0                  0  ...             0                  0   \n",
       "2                  0                  0  ...             0                  0   \n",
       "3                  0                  0  ...             0                  0   \n",
       "4                  0                  0  ...             0                  0   \n",
       "5                  0                  1  ...             0                  0   \n",
       "\n",
       "   FuelType_gasoline  FuelType_hybrid  FuelType_lpg  FuelType_other  \\\n",
       "1                  1                0             0               0   \n",
       "2                  1                0             0               0   \n",
       "3                  1                0             0               0   \n",
       "4                  1                0             0               0   \n",
       "5                  1                0             0               0   \n",
       "\n",
       "   FuelType_unknown  NotRepaired_no  NotRepaired_unknown  NotRepaired_yes  \n",
       "1                 0               0                    0                1  \n",
       "2                 0               0                    1                0  \n",
       "3                 0               1                    0                0  \n",
       "4                 0               1                    0                0  \n",
       "5                 0               0                    0                1  \n",
       "\n",
       "[5 rows x 27 columns]"
      ]
     },
     "execution_count": 17,
     "metadata": {},
     "output_type": "execute_result"
    }
   ],
   "source": [
    "# Dropping the cols whith too many categories\n",
    "df_ohe = df.drop(['Model', 'Brand'], axis=1)\n",
    "\n",
    "# OHE the remaining categroeis\n",
    "df_ohe = pd.get_dummies(df_ohe)\n",
    "\n",
    "df_ohe.head()"
   ]
  },
  {
   "cell_type": "markdown",
   "id": "right-petroleum",
   "metadata": {},
   "source": [
    "### 2.3.2. Ordinal encoding\n",
    "> In this step the data has been encoded ordinal to ease later model training"
   ]
  },
  {
   "cell_type": "code",
   "execution_count": 18,
   "id": "junior-aberdeen",
   "metadata": {},
   "outputs": [
    {
     "data": {
      "text/html": [
       "<div>\n",
       "<style scoped>\n",
       "    .dataframe tbody tr th:only-of-type {\n",
       "        vertical-align: middle;\n",
       "    }\n",
       "\n",
       "    .dataframe tbody tr th {\n",
       "        vertical-align: top;\n",
       "    }\n",
       "\n",
       "    .dataframe thead th {\n",
       "        text-align: right;\n",
       "    }\n",
       "</style>\n",
       "<table border=\"1\" class=\"dataframe\">\n",
       "  <thead>\n",
       "    <tr style=\"text-align: right;\">\n",
       "      <th></th>\n",
       "      <th>Price</th>\n",
       "      <th>VehicleType</th>\n",
       "      <th>RegistrationYear</th>\n",
       "      <th>Gearbox</th>\n",
       "      <th>Power</th>\n",
       "      <th>Model</th>\n",
       "      <th>Mileage</th>\n",
       "      <th>RegistrationMonth</th>\n",
       "      <th>FuelType</th>\n",
       "      <th>Brand</th>\n",
       "      <th>NotRepaired</th>\n",
       "    </tr>\n",
       "  </thead>\n",
       "  <tbody>\n",
       "    <tr>\n",
       "      <th>1</th>\n",
       "      <td>18300</td>\n",
       "      <td>2.0</td>\n",
       "      <td>2011</td>\n",
       "      <td>1.0</td>\n",
       "      <td>190</td>\n",
       "      <td>227.0</td>\n",
       "      <td>125000</td>\n",
       "      <td>5</td>\n",
       "      <td>2.0</td>\n",
       "      <td>1.0</td>\n",
       "      <td>2.0</td>\n",
       "    </tr>\n",
       "    <tr>\n",
       "      <th>2</th>\n",
       "      <td>9800</td>\n",
       "      <td>6.0</td>\n",
       "      <td>2004</td>\n",
       "      <td>0.0</td>\n",
       "      <td>163</td>\n",
       "      <td>117.0</td>\n",
       "      <td>125000</td>\n",
       "      <td>8</td>\n",
       "      <td>2.0</td>\n",
       "      <td>14.0</td>\n",
       "      <td>1.0</td>\n",
       "    </tr>\n",
       "    <tr>\n",
       "      <th>3</th>\n",
       "      <td>1500</td>\n",
       "      <td>5.0</td>\n",
       "      <td>2001</td>\n",
       "      <td>1.0</td>\n",
       "      <td>75</td>\n",
       "      <td>116.0</td>\n",
       "      <td>150000</td>\n",
       "      <td>6</td>\n",
       "      <td>2.0</td>\n",
       "      <td>38.0</td>\n",
       "      <td>0.0</td>\n",
       "    </tr>\n",
       "    <tr>\n",
       "      <th>4</th>\n",
       "      <td>3600</td>\n",
       "      <td>5.0</td>\n",
       "      <td>2008</td>\n",
       "      <td>1.0</td>\n",
       "      <td>69</td>\n",
       "      <td>101.0</td>\n",
       "      <td>90000</td>\n",
       "      <td>7</td>\n",
       "      <td>2.0</td>\n",
       "      <td>31.0</td>\n",
       "      <td>0.0</td>\n",
       "    </tr>\n",
       "    <tr>\n",
       "      <th>5</th>\n",
       "      <td>650</td>\n",
       "      <td>4.0</td>\n",
       "      <td>1995</td>\n",
       "      <td>1.0</td>\n",
       "      <td>102</td>\n",
       "      <td>11.0</td>\n",
       "      <td>150000</td>\n",
       "      <td>10</td>\n",
       "      <td>2.0</td>\n",
       "      <td>2.0</td>\n",
       "      <td>2.0</td>\n",
       "    </tr>\n",
       "  </tbody>\n",
       "</table>\n",
       "</div>"
      ],
      "text/plain": [
       "   Price  VehicleType  RegistrationYear  Gearbox  Power  Model  Mileage  \\\n",
       "1  18300          2.0              2011      1.0    190  227.0   125000   \n",
       "2   9800          6.0              2004      0.0    163  117.0   125000   \n",
       "3   1500          5.0              2001      1.0     75  116.0   150000   \n",
       "4   3600          5.0              2008      1.0     69  101.0    90000   \n",
       "5    650          4.0              1995      1.0    102   11.0   150000   \n",
       "\n",
       "   RegistrationMonth  FuelType  Brand  NotRepaired  \n",
       "1                  5       2.0    1.0          2.0  \n",
       "2                  8       2.0   14.0          1.0  \n",
       "3                  6       2.0   38.0          0.0  \n",
       "4                  7       2.0   31.0          0.0  \n",
       "5                 10       2.0    2.0          2.0  "
      ]
     },
     "execution_count": 18,
     "metadata": {},
     "output_type": "execute_result"
    }
   ],
   "source": [
    "# Copying df to not modify orginal data\n",
    "df_ord = df.copy()\n",
    "df_ord[categorical_features] = OrdinalEncoder().fit_transform(df_ord[categorical_features])\n",
    "df_ord.head()"
   ]
  },
  {
   "cell_type": "markdown",
   "id": "distributed-breeding",
   "metadata": {},
   "source": [
    "## 2.4. Splitting data\n",
    "> In this chapter the differet datasets have been splitted into test and train data with a ratio of 6/4"
   ]
  },
  {
   "cell_type": "code",
   "execution_count": 19,
   "id": "entertaining-panic",
   "metadata": {},
   "outputs": [],
   "source": [
    "# Splitting OHE DF Needed for XGBoost (But for timereasons not covered in the project)\n",
    "X_train_ohe, X_test_ohe, y_train_ohe, y_test_ohe = train_test_split(\n",
    "    df_ohe.drop(['Price'], axis=1), df_ohe.loc[:, 'Price'], \n",
    "    test_size=.4, random_state=RANDOM_STATE\n",
    ")\n",
    "\n",
    "# Splitting Ordinal encoded df\n",
    "X_train_ord, X_test_ord, y_train_ord, y_test_ord = train_test_split(\n",
    "    df_ord.drop(['Price'], axis=1), df_ord.loc[:, 'Price'], \n",
    "    test_size=.4, random_state=RANDOM_STATE\n",
    ")\n",
    "\n",
    "# Splitting  df\n",
    "X_train, X_test, y_train, y_test = train_test_split(\n",
    "    df.drop(['Price'], axis=1), df.loc[:, 'Price'], \n",
    "    test_size=.4, random_state=RANDOM_STATE\n",
    ")"
   ]
  },
  {
   "cell_type": "markdown",
   "id": "falling-origin",
   "metadata": {},
   "source": [
    "# 3. Model training and comparison\n",
    "> In this chapter the different Regressors have been built and optimized.   \n",
    "> To evaluate the models first a scorer has been built because sklearn is not supplying a prebuilt rmse metric"
   ]
  },
  {
   "cell_type": "code",
   "execution_count": 20,
   "id": "sporting-rhythm",
   "metadata": {},
   "outputs": [],
   "source": [
    "# Creating helper functions\n",
    "\n",
    "def rmse_loss_fct(y, y_pred):\n",
    "    '''Helper function which calculates the RMSE\n",
    "    args:\n",
    "        y: list/np arrray with true targets\n",
    "        y_pred: list/np.array with model prediction\n",
    "    returns:\n",
    "        rmse value'''\n",
    "    return mean_squared_error(y, y_pred)**0.5\n",
    "\n",
    "# Create scorer\n",
    "rmse = make_scorer(rmse_loss_fct, greater_is_better=False)"
   ]
  },
  {
   "cell_type": "markdown",
   "id": "executed-hacker",
   "metadata": {},
   "source": [
    "## 3.1. Baseline model\n",
    "> In order to check if the algorithms are actually learning, a dummy regressor (in this case a mean dummy) has been built  \n",
    "> Due to the project description a linear model has built as well as baseline because the description says, that linear regression is not performing well for this problem"
   ]
  },
  {
   "cell_type": "code",
   "execution_count": 21,
   "id": "immune-timing",
   "metadata": {},
   "outputs": [
    {
     "name": "stdout",
     "output_type": "stream",
     "text": [
      "Baseline training: 4597.670889965335\n",
      "Baseline test: 4581.104357818362\n"
     ]
    }
   ],
   "source": [
    "# Creating Baseline mean dummies\n",
    "dummy_reg_test = DummyRegressor(strategy='mean')\n",
    "dummy_reg_train = DummyRegressor(strategy='mean')\n",
    "\n",
    "dummy_reg_test.fit(X_test_ohe, y_test_ohe)\n",
    "dummy_reg_train.fit(X_train_ohe, y_train_ohe)\n",
    "\n",
    "print(f'Baseline training: {rmse_loss_fct(dummy_reg_test.predict(X_train_ohe), y_train_ohe)}')\n",
    "print(f'Baseline test: {rmse_loss_fct(dummy_reg_test.predict(X_test_ohe), y_test_ohe)}')"
   ]
  },
  {
   "cell_type": "code",
   "execution_count": 22,
   "id": "allied-federation",
   "metadata": {},
   "outputs": [
    {
     "name": "stdout",
     "output_type": "stream",
     "text": [
      "Baseline linear model: 3004.8689256118346\n"
     ]
    }
   ],
   "source": [
    "# Creating Baseline mean dummies\n",
    "linear_model = LinearRegression()\n",
    "linear_model.fit(X_train_ohe, y_train_ohe)\n",
    "y_pred_lin = linear_model.predict(X_test_ohe)\n",
    "print(f'Baseline linear model: {rmse_loss_fct(y_pred_lin, y_test_ohe)}')"
   ]
  },
  {
   "cell_type": "markdown",
   "id": "missing-surprise",
   "metadata": {},
   "source": [
    "## 3.2. Random Forest Regressor"
   ]
  },
  {
   "cell_type": "markdown",
   "id": "genuine-settle",
   "metadata": {},
   "source": [
    "### 3.2.1. Standard RFC for Benchmarking\n",
    "> In this Step the baseline for RFRs has been created by using a standard model as well as the cross validation mean"
   ]
  },
  {
   "cell_type": "code",
   "execution_count": 23,
   "id": "baking-reward",
   "metadata": {},
   "outputs": [
    {
     "name": "stderr",
     "output_type": "stream",
     "text": [
      "C:\\Users\\JonathanLang\\.conda\\envs\\practicum\\lib\\site-packages\\sklearn\\ensemble\\forest.py:245: FutureWarning: The default value of n_estimators will change from 10 in version 0.20 to 100 in 0.22.\n",
      "  \"10 in version 0.20 to 100 in 0.22.\", FutureWarning)\n",
      "C:\\Users\\JonathanLang\\.conda\\envs\\practicum\\lib\\site-packages\\sklearn\\ensemble\\forest.py:245: FutureWarning: The default value of n_estimators will change from 10 in version 0.20 to 100 in 0.22.\n",
      "  \"10 in version 0.20 to 100 in 0.22.\", FutureWarning)\n",
      "C:\\Users\\JonathanLang\\.conda\\envs\\practicum\\lib\\site-packages\\sklearn\\ensemble\\forest.py:245: FutureWarning: The default value of n_estimators will change from 10 in version 0.20 to 100 in 0.22.\n",
      "  \"10 in version 0.20 to 100 in 0.22.\", FutureWarning)\n",
      "C:\\Users\\JonathanLang\\.conda\\envs\\practicum\\lib\\site-packages\\sklearn\\ensemble\\forest.py:245: FutureWarning: The default value of n_estimators will change from 10 in version 0.20 to 100 in 0.22.\n",
      "  \"10 in version 0.20 to 100 in 0.22.\", FutureWarning)\n",
      "C:\\Users\\JonathanLang\\.conda\\envs\\practicum\\lib\\site-packages\\sklearn\\ensemble\\forest.py:245: FutureWarning: The default value of n_estimators will change from 10 in version 0.20 to 100 in 0.22.\n",
      "  \"10 in version 0.20 to 100 in 0.22.\", FutureWarning)\n",
      "C:\\Users\\JonathanLang\\.conda\\envs\\practicum\\lib\\site-packages\\sklearn\\ensemble\\forest.py:245: FutureWarning: The default value of n_estimators will change from 10 in version 0.20 to 100 in 0.22.\n",
      "  \"10 in version 0.20 to 100 in 0.22.\", FutureWarning)\n",
      "C:\\Users\\JonathanLang\\.conda\\envs\\practicum\\lib\\site-packages\\sklearn\\ensemble\\forest.py:245: FutureWarning: The default value of n_estimators will change from 10 in version 0.20 to 100 in 0.22.\n",
      "  \"10 in version 0.20 to 100 in 0.22.\", FutureWarning)\n",
      "C:\\Users\\JonathanLang\\.conda\\envs\\practicum\\lib\\site-packages\\sklearn\\ensemble\\forest.py:245: FutureWarning: The default value of n_estimators will change from 10 in version 0.20 to 100 in 0.22.\n",
      "  \"10 in version 0.20 to 100 in 0.22.\", FutureWarning)\n",
      "C:\\Users\\JonathanLang\\.conda\\envs\\practicum\\lib\\site-packages\\sklearn\\ensemble\\forest.py:245: FutureWarning: The default value of n_estimators will change from 10 in version 0.20 to 100 in 0.22.\n",
      "  \"10 in version 0.20 to 100 in 0.22.\", FutureWarning)\n",
      "C:\\Users\\JonathanLang\\.conda\\envs\\practicum\\lib\\site-packages\\sklearn\\ensemble\\forest.py:245: FutureWarning: The default value of n_estimators will change from 10 in version 0.20 to 100 in 0.22.\n",
      "  \"10 in version 0.20 to 100 in 0.22.\", FutureWarning)\n"
     ]
    },
    {
     "name": "stdout",
     "output_type": "stream",
     "text": [
      "Crossfold RMSE mean for Standard RFC regressor: 1815.0537776878875\n"
     ]
    }
   ],
   "source": [
    "rf_reg = RandomForestRegressor(random_state=RANDOM_STATE)\n",
    "\n",
    "rf_reg_cv = cross_val_score(rf_reg,\n",
    "                            X_train_ord,\n",
    "                            y_train_ord,\n",
    "                            cv=10,\n",
    "                            scoring=rmse,\n",
    "                            verbose=0\n",
    "                           )\n",
    "print(f'Crossfold RMSE mean for Standard RFC regressor: {abs(rf_reg_cv.mean())}')"
   ]
  },
  {
   "cell_type": "code",
   "execution_count": 24,
   "id": "statutory-impossible",
   "metadata": {},
   "outputs": [
    {
     "name": "stderr",
     "output_type": "stream",
     "text": [
      "C:\\Users\\JonathanLang\\.conda\\envs\\practicum\\lib\\site-packages\\sklearn\\ensemble\\forest.py:245: FutureWarning: The default value of n_estimators will change from 10 in version 0.20 to 100 in 0.22.\n",
      "  \"10 in version 0.20 to 100 in 0.22.\", FutureWarning)\n"
     ]
    },
    {
     "name": "stdout",
     "output_type": "stream",
     "text": [
      "RMSE of standard Random Forest: 1811.691785657868\n"
     ]
    }
   ],
   "source": [
    "# Evaluating the standart rfr model\n",
    "standart_rfr = RandomForestRegressor(random_state=RANDOM_STATE)\n",
    "standart_rfr.fit(X_train_ord, y_train_ord)\n",
    "y_rft = standart_rfr.predict(X_test_ord)\n",
    "print(f'RMSE of standard Random Forest: {rmse_loss_fct(y_test_ord, y_rft)}')"
   ]
  },
  {
   "cell_type": "markdown",
   "id": "appreciated-sewing",
   "metadata": {},
   "source": [
    "> **Observation:**\n",
    "> - Standard RFC is alerady much better than the Baseline model"
   ]
  },
  {
   "cell_type": "markdown",
   "id": "dimensional-raleigh",
   "metadata": {},
   "source": [
    "### 3.2.2. RFC Hyperparameter Tuning\n",
    "> For further improving the model, the hyperparameter have been tuned by using random search and grid search"
   ]
  },
  {
   "cell_type": "code",
   "execution_count": 25,
   "id": "labeled-samuel",
   "metadata": {},
   "outputs": [
    {
     "name": "stdout",
     "output_type": "stream",
     "text": [
      "Fitting 3 folds for each of 25 candidates, totalling 75 fits\n"
     ]
    },
    {
     "name": "stderr",
     "output_type": "stream",
     "text": [
      "C:\\Users\\JonathanLang\\.conda\\envs\\practicum\\lib\\site-packages\\sklearn\\model_selection\\_split.py:1978: FutureWarning: The default value of cv will change from 3 to 5 in version 0.22. Specify it explicitly to silence this warning.\n",
      "  warnings.warn(CV_WARNING, FutureWarning)\n",
      "[Parallel(n_jobs=-1)]: Using backend LokyBackend with 4 concurrent workers.\n",
      "[Parallel(n_jobs=-1)]: Done  33 tasks      | elapsed:  5.0min\n",
      "[Parallel(n_jobs=-1)]: Done  75 out of  75 | elapsed:  9.6min finished\n"
     ]
    },
    {
     "data": {
      "text/plain": [
       "RandomizedSearchCV(cv='warn', error_score='raise-deprecating',\n",
       "                   estimator=RandomForestRegressor(bootstrap=True,\n",
       "                                                   criterion='mse',\n",
       "                                                   max_depth=None,\n",
       "                                                   max_features='auto',\n",
       "                                                   max_leaf_nodes=None,\n",
       "                                                   min_impurity_decrease=0.0,\n",
       "                                                   min_impurity_split=None,\n",
       "                                                   min_samples_leaf=1,\n",
       "                                                   min_samples_split=2,\n",
       "                                                   min_weight_fraction_leaf=0.0,\n",
       "                                                   n_estimators='warn',\n",
       "                                                   n_jobs=None, oob_score=False,\n",
       "                                                   random_state=42, verbose=0,\n",
       "                                                   warm_start=False),\n",
       "                   iid='warn', n_iter=25, n_jobs=-1,\n",
       "                   param_distributions={'bootstrap': [True, False],\n",
       "                                        'max_depth': [2, 5, 10],\n",
       "                                        'min_samples_leaf': [1, 2, 5],\n",
       "                                        'n_estimators': [50, 100, 150]},\n",
       "                   pre_dispatch='2*n_jobs', random_state=42, refit=True,\n",
       "                   return_train_score=True,\n",
       "                   scoring=make_scorer(rmse_loss_fct, greater_is_better=False),\n",
       "                   verbose=2)"
      ]
     },
     "execution_count": 25,
     "metadata": {},
     "output_type": "execute_result"
    }
   ],
   "source": [
    "# Random searc\n",
    "rfr_reg = RandomForestRegressor(random_state=RANDOM_STATE)\n",
    "\n",
    "# Assembling param Grid for Random grid search\n",
    "param_grid_rfr_rand = {\n",
    "    'n_estimators': [50,100, 150],\n",
    "    'max_depth': [2, 5, 10],\n",
    "    'bootstrap': [True, False],\n",
    "    'min_samples_leaf': [1,2,5]\n",
    "}\n",
    "\n",
    "rand_search_rfr = RandomizedSearchCV(\n",
    "    estimator=rfr_reg,\n",
    "    param_distributions=param_grid_rfr_rand,\n",
    "    n_iter=25,\n",
    "    scoring=rmse,\n",
    "    verbose=2,\n",
    "    random_state=RANDOM_STATE,\n",
    "    return_train_score=True,\n",
    "    n_jobs=-1\n",
    ")\n",
    "\n",
    "rand_search_rfr.fit(X_train_ord, y_train_ord)"
   ]
  },
  {
   "cell_type": "code",
   "execution_count": 26,
   "id": "nonprofit-night",
   "metadata": {},
   "outputs": [
    {
     "name": "stdout",
     "output_type": "stream",
     "text": [
      "RMSE of best estimator: 1985.0019023370567\n"
     ]
    }
   ],
   "source": [
    "# Evluating the best estimator\n",
    "y_pred = rand_search_rfr.best_estimator_.predict(X_test_ord)\n",
    "print(f'RMSE of best estimator: {rmse_loss_fct(y_test_ord, y_pred)}')"
   ]
  },
  {
   "cell_type": "markdown",
   "id": "removable-trade",
   "metadata": {},
   "source": [
    ">**Observations:**\n",
    "> - The Standard RFR shows better accuracy than the best random estimator. This is not representative because the standardregressor could be overfitted\n",
    "> - The RFR is significant better than the baseline dummymodell"
   ]
  },
  {
   "cell_type": "markdown",
   "id": "expensive-square",
   "metadata": {},
   "source": [
    "## 3.3. LightGBM"
   ]
  },
  {
   "cell_type": "markdown",
   "id": "devoted-terrain",
   "metadata": {},
   "source": [
    "### 3.3.1. Baseline standardregressor\n",
    "> In this Step the baseline for LightGBMs has been created by using a standard model as well as the cross validation mean"
   ]
  },
  {
   "cell_type": "code",
   "execution_count": 27,
   "id": "committed-stability",
   "metadata": {},
   "outputs": [
    {
     "name": "stderr",
     "output_type": "stream",
     "text": [
      "[Parallel(n_jobs=-1)]: Using backend LokyBackend with 4 concurrent workers.\n"
     ]
    },
    {
     "name": "stdout",
     "output_type": "stream",
     "text": [
      "Crossfold RMSE mean for Standard LightGBM regressor: 1824.3915931962074\n"
     ]
    },
    {
     "name": "stderr",
     "output_type": "stream",
     "text": [
      "[Parallel(n_jobs=-1)]: Done  10 out of  10 | elapsed:    8.3s finished\n"
     ]
    }
   ],
   "source": [
    "# Evaluating cv validation\n",
    "light_cv_benchmarking = lgb.LGBMRegressor(metric='rmse')\n",
    "light_reg_cv = cross_val_score(light_cv_benchmarking,\n",
    "                               X_train_ord,\n",
    "                               y_train_ord,\n",
    "                               cv=10,\n",
    "                               scoring=rmse,\n",
    "                               verbose=1,\n",
    "                               n_jobs=-1\n",
    "                           )\n",
    "print(f'Crossfold RMSE mean for Standard LightGBM regressor: {abs(light_reg_cv.mean())}')"
   ]
  },
  {
   "cell_type": "code",
   "execution_count": 28,
   "id": "thick-hamburg",
   "metadata": {},
   "outputs": [
    {
     "name": "stdout",
     "output_type": "stream",
     "text": [
      "RMSE of standard LightGBM: 1822.514232941178\n"
     ]
    }
   ],
   "source": [
    "# Evaluating perfomance of standard LBG\n",
    "light_cv_standard = lgb.LGBMRegressor(metric='rmse')\n",
    "light_cv_standard.fit(X_train_ord, y_train_ord)\n",
    "y_test_light = light_cv_standard.predict(X_test_ord)\n",
    "print(f'RMSE of standard LightGBM: {rmse_loss_fct(y_test_ord, y_test_light)}')"
   ]
  },
  {
   "cell_type": "markdown",
   "id": "outside-armor",
   "metadata": {},
   "source": [
    "> **Observations:**\n",
    "> - The Performance of the lightGBM is more or less equal to the performance of the random forests regressor (At least during cross validation)"
   ]
  },
  {
   "cell_type": "markdown",
   "id": "renewable-sterling",
   "metadata": {},
   "source": [
    "### 3.3.2. Hyperparameter Tuning\n",
    "> For further improving the model, the hyperparameter have been tuned by using random search and grid search"
   ]
  },
  {
   "cell_type": "code",
   "execution_count": 29,
   "id": "brief-brake",
   "metadata": {},
   "outputs": [
    {
     "name": "stdout",
     "output_type": "stream",
     "text": [
      "Fitting 3 folds for each of 36 candidates, totalling 108 fits\n"
     ]
    },
    {
     "name": "stderr",
     "output_type": "stream",
     "text": [
      "C:\\Users\\JonathanLang\\.conda\\envs\\practicum\\lib\\site-packages\\sklearn\\model_selection\\_split.py:1978: FutureWarning: The default value of cv will change from 3 to 5 in version 0.22. Specify it explicitly to silence this warning.\n",
      "  warnings.warn(CV_WARNING, FutureWarning)\n",
      "C:\\Users\\JonathanLang\\.conda\\envs\\practicum\\lib\\site-packages\\sklearn\\model_selection\\_search.py:266: UserWarning: The total space of parameters 36 is smaller than n_iter=75. Running 36 iterations. For exhaustive searches, use GridSearchCV.\n",
      "  % (grid_size, self.n_iter, grid_size), UserWarning)\n",
      "[Parallel(n_jobs=-1)]: Using backend LokyBackend with 4 concurrent workers.\n",
      "[Parallel(n_jobs=-1)]: Done  33 tasks      | elapsed:  1.8min\n",
      "[Parallel(n_jobs=-1)]: Done 108 out of 108 | elapsed:  6.0min finished\n",
      "C:\\Users\\JonathanLang\\.conda\\envs\\practicum\\lib\\site-packages\\lightgbm\\engine.py:148: UserWarning: Found `num_iterations` in params. Will use it instead of argument\n",
      "  _log_warning(\"Found `{}` in params. Will use it instead of argument\".format(alias))\n"
     ]
    },
    {
     "data": {
      "text/plain": [
       "RandomizedSearchCV(cv='warn', error_score='raise-deprecating',\n",
       "                   estimator=LGBMRegressor(boosting_type='gbdt',\n",
       "                                           class_weight=None,\n",
       "                                           colsample_bytree=1.0,\n",
       "                                           importance_type='split',\n",
       "                                           learning_rate=0.1, max_depth=-1,\n",
       "                                           metric='rmse', min_child_samples=20,\n",
       "                                           min_child_weight=0.001,\n",
       "                                           min_split_gain=0.0, n_estimators=100,\n",
       "                                           n_jobs=-1, num_leaves=31,\n",
       "                                           objective=None, random_state=None...\n",
       "                                           silent=True, subsample=1.0,\n",
       "                                           subsample_for_bin=200000,\n",
       "                                           subsample_freq=0),\n",
       "                   iid='warn', n_iter=75, n_jobs=-1,\n",
       "                   param_distributions={'learning_rate': [0.05, 0.1, 0.2],\n",
       "                                        'max_depth': [5, 10, 20],\n",
       "                                        'num_iterations': [100, 500, 800,\n",
       "                                                           1000]},\n",
       "                   pre_dispatch='2*n_jobs', random_state=42, refit=True,\n",
       "                   return_train_score=False,\n",
       "                   scoring=make_scorer(rmse_loss_fct, greater_is_better=False),\n",
       "                   verbose=2)"
      ]
     },
     "execution_count": 29,
     "metadata": {},
     "output_type": "execute_result"
    }
   ],
   "source": [
    "# Assembling Param gid and regressor\n",
    "light_rand_reg = lgb.LGBMRegressor(metric='rmse')\n",
    "\n",
    "param_grid_light = {\n",
    "    'num_iterations': [100,500,800,1000],\n",
    "    'max_depth': [5, 10, 20],\n",
    "    'learning_rate': [0.05, 0.1, 0.2]\n",
    "}\n",
    "\n",
    "rand_search_light = RandomizedSearchCV(\n",
    "    estimator=light_rand_reg,\n",
    "    param_distributions=param_grid_light,\n",
    "    n_iter=75,\n",
    "    scoring=rmse,\n",
    "    verbose=2,\n",
    "    random_state=RANDOM_STATE,\n",
    "    n_jobs=-1\n",
    ")\n",
    "\n",
    "rand_search_light.fit(X_train_ord, y_train_ord)"
   ]
  },
  {
   "cell_type": "code",
   "execution_count": 30,
   "id": "photographic-shame",
   "metadata": {},
   "outputs": [
    {
     "name": "stdout",
     "output_type": "stream",
     "text": [
      "RMSE for best LBGoost regessor score from random search with cv: 1709.2171685972862\n",
      "RMSE for best regressor on thest data: 1684.4731795233922\n"
     ]
    }
   ],
   "source": [
    "print(f'RMSE for best LBGoost regessor score from random search with cv: {abs(rand_search_light.best_score_)}')\n",
    "\n",
    "# Evluating the best estimator\n",
    "y_pred_lgb = rand_search_light.best_estimator_.predict(X_test_ord)\n",
    "print(f'RMSE for best regressor on thest data: {rmse_loss_fct(y_test_ord, y_pred_lgb)}')"
   ]
  },
  {
   "cell_type": "markdown",
   "id": "silent-eugene",
   "metadata": {},
   "source": [
    "> **Observations:**\n",
    "> - The Best regressor is significant better than the baseline AND the standard LGBoost regressor\n",
    "> - Futher Parameter tuning needed\n"
   ]
  },
  {
   "cell_type": "code",
   "execution_count": 31,
   "id": "accessory-virgin",
   "metadata": {},
   "outputs": [
    {
     "name": "stdout",
     "output_type": "stream",
     "text": [
      "Best params: {'num_iterations': 1000, 'max_depth': 20, 'learning_rate': 0.1}\n"
     ]
    }
   ],
   "source": [
    "# Investigating parameter ranges\n",
    "print(f'Best params: {rand_search_light.best_params_}')"
   ]
  },
  {
   "cell_type": "code",
   "execution_count": 32,
   "id": "super-sympathy",
   "metadata": {},
   "outputs": [
    {
     "name": "stdout",
     "output_type": "stream",
     "text": [
      "Fitting 3 folds for each of 9 candidates, totalling 27 fits\n"
     ]
    },
    {
     "name": "stderr",
     "output_type": "stream",
     "text": [
      "C:\\Users\\JonathanLang\\.conda\\envs\\practicum\\lib\\site-packages\\sklearn\\model_selection\\_split.py:1978: FutureWarning: The default value of cv will change from 3 to 5 in version 0.22. Specify it explicitly to silence this warning.\n",
      "  warnings.warn(CV_WARNING, FutureWarning)\n",
      "[Parallel(n_jobs=-1)]: Using backend LokyBackend with 4 concurrent workers.\n",
      "[Parallel(n_jobs=-1)]: Done  27 out of  27 | elapsed:  8.2min finished\n",
      "C:\\Users\\JonathanLang\\.conda\\envs\\practicum\\lib\\site-packages\\lightgbm\\engine.py:148: UserWarning: Found `num_iterations` in params. Will use it instead of argument\n",
      "  _log_warning(\"Found `{}` in params. Will use it instead of argument\".format(alias))\n"
     ]
    },
    {
     "data": {
      "text/plain": [
       "GridSearchCV(cv='warn', error_score=0,\n",
       "             estimator=LGBMRegressor(boosting_type='gbdt', class_weight=None,\n",
       "                                     colsample_bytree=1.0,\n",
       "                                     importance_type='split', learning_rate=0.1,\n",
       "                                     max_depth=-1, metric='rmse',\n",
       "                                     min_child_samples=20,\n",
       "                                     min_child_weight=0.001, min_split_gain=0.0,\n",
       "                                     n_estimators=100, n_jobs=-1, num_leaves=31,\n",
       "                                     objective=None, random_state=None,\n",
       "                                     reg_alpha=0.0, reg_lambda=0.0, silent=True,\n",
       "                                     subsample=1.0, subsample_for_bin=200000,\n",
       "                                     subsample_freq=0),\n",
       "             iid='warn', n_jobs=-1,\n",
       "             param_grid={'learning_rate': [0.1], 'max_depth': [15, 20, 25],\n",
       "                         'num_iterations': [1000, 1250, 1500]},\n",
       "             pre_dispatch='2*n_jobs', refit=True, return_train_score=True,\n",
       "             scoring=make_scorer(rmse_loss_fct, greater_is_better=False),\n",
       "             verbose=2)"
      ]
     },
     "execution_count": 32,
     "metadata": {},
     "output_type": "execute_result"
    }
   ],
   "source": [
    "# Aggregating Grid in Parameter range\n",
    "param_grid_lgb_grid = {\n",
    "    'num_iterations': [1000, 1250, 1500],\n",
    "    'max_depth': [15, 20, 25],\n",
    "    'learning_rate': [.1]\n",
    "}\n",
    "\n",
    "lgb_grid_reg = lgb.LGBMRegressor(metric='rmse')\n",
    "\n",
    "grid_search_lgb = GridSearchCV(estimator=lgb_grid_reg,\n",
    "                               param_grid=param_grid_lgb_grid,\n",
    "                               n_jobs=-1,\n",
    "                               scoring=rmse,\n",
    "                               error_score=0,\n",
    "                               verbose=2,\n",
    "                               return_train_score=True\n",
    "                              )\n",
    "\n",
    "\n",
    "grid_search_lgb.fit(X_train_ord, y_train_ord)"
   ]
  },
  {
   "cell_type": "code",
   "execution_count": 33,
   "id": "southern-scenario",
   "metadata": {},
   "outputs": [
    {
     "name": "stdout",
     "output_type": "stream",
     "text": [
      "RMSE for best LBGoost regessor score from random search with cv: 1709.2171685972862\n",
      "RMSE for best regressor on thest data: 1672.975981006591\n"
     ]
    }
   ],
   "source": [
    "print(f'RMSE for best LBGoost regessor score from random search with cv: {abs(rand_search_light.best_score_)}')\n",
    "\n",
    "# Evluating the best estimator\n",
    "y_pred_lgb = grid_search_lgb.best_estimator_.predict(X_test_ord)\n",
    "print(f'RMSE for best regressor on thest data: {rmse_loss_fct(y_test_ord, y_pred_lgb)}')"
   ]
  },
  {
   "cell_type": "markdown",
   "id": "metric-chick",
   "metadata": {},
   "source": [
    "> **Observations:**\n",
    "> - The Hyperparameter tunig improved the results a little but not significantly"
   ]
  },
  {
   "cell_type": "markdown",
   "id": "transparent-reminder",
   "metadata": {},
   "source": [
    "## 3.4. Catboost"
   ]
  },
  {
   "cell_type": "markdown",
   "id": "fewer-groove",
   "metadata": {},
   "source": [
    "### 3.4.1. Catboost Baseline"
   ]
  },
  {
   "cell_type": "code",
   "execution_count": 34,
   "id": "median-seattle",
   "metadata": {},
   "outputs": [
    {
     "name": "stdout",
     "output_type": "stream",
     "text": [
      "Crossvalidation RSME mean for Catboost: 1743.359742423243\n",
      "Wall time: 12min 18s\n"
     ]
    }
   ],
   "source": [
    "%%time\n",
    "# Benchmarking catboost cross validation \n",
    "cb_cv = CatBoostRegressor(cat_features=categorical_features,\n",
    "                          metric_period=50,\n",
    "                          loss_function=\"RMSE\",\n",
    "                          eval_metric=\"RMSE\",\n",
    "                          random_seed=42\n",
    "                         )\n",
    "\n",
    "cv_score_cb = cross_validate(cb_cv,\n",
    "                             X_train,\n",
    "                             y_train,\n",
    "                             scoring=rmse,\n",
    "                             cv=5,\n",
    "                             return_train_score=True,\n",
    "                             n_jobs=-1\n",
    "                            )\n",
    "mean_cv_cb = abs(cv_score_cb['test_score'].mean())\n",
    "print(f'Crossvalidation RSME mean for Catboost: {mean_cv_cb}')"
   ]
  },
  {
   "cell_type": "code",
   "execution_count": 35,
   "id": "attached-undergraduate",
   "metadata": {},
   "outputs": [
    {
     "name": "stdout",
     "output_type": "stream",
     "text": [
      "Learning rate set to 0.099154\n",
      "0:\tlearn: 4306.0179326\ttotal: 406ms\tremaining: 6m 45s\n",
      "50:\tlearn: 1965.4728298\ttotal: 12.6s\tremaining: 3m 53s\n",
      "100:\tlearn: 1879.9999021\ttotal: 24.5s\tremaining: 3m 37s\n",
      "150:\tlearn: 1832.1813293\ttotal: 37.3s\tremaining: 3m 29s\n",
      "200:\tlearn: 1804.8473874\ttotal: 49.5s\tremaining: 3m 16s\n",
      "250:\tlearn: 1781.6953933\ttotal: 1m 5s\tremaining: 3m 16s\n",
      "300:\tlearn: 1763.2839689\ttotal: 1m 20s\tremaining: 3m 5s\n",
      "350:\tlearn: 1750.1030733\ttotal: 1m 33s\tremaining: 2m 52s\n",
      "400:\tlearn: 1736.3245019\ttotal: 1m 45s\tremaining: 2m 37s\n",
      "450:\tlearn: 1724.4894340\ttotal: 1m 56s\tremaining: 2m 22s\n",
      "500:\tlearn: 1716.0076630\ttotal: 2m 7s\tremaining: 2m 7s\n",
      "550:\tlearn: 1707.2508329\ttotal: 2m 16s\tremaining: 1m 51s\n",
      "600:\tlearn: 1699.8153065\ttotal: 2m 26s\tremaining: 1m 37s\n",
      "650:\tlearn: 1693.5608575\ttotal: 2m 35s\tremaining: 1m 23s\n",
      "700:\tlearn: 1686.8217455\ttotal: 2m 45s\tremaining: 1m 10s\n",
      "750:\tlearn: 1680.2770526\ttotal: 2m 55s\tremaining: 58.2s\n",
      "800:\tlearn: 1674.3612859\ttotal: 3m 4s\tremaining: 45.9s\n",
      "850:\tlearn: 1668.3996389\ttotal: 3m 14s\tremaining: 34.1s\n",
      "900:\tlearn: 1663.3499360\ttotal: 3m 23s\tremaining: 22.4s\n",
      "950:\tlearn: 1657.2404457\ttotal: 3m 34s\tremaining: 11.1s\n",
      "999:\tlearn: 1651.4342463\ttotal: 3m 45s\tremaining: 0us\n",
      "RMSE for best regressor on thest data: 1144.8732073582496\n",
      "Wall time: 3min 48s\n"
     ]
    }
   ],
   "source": [
    "%%time \n",
    "# Benchmarking a standard CatBoostRegressor\n",
    "cb_benchmarking = CatBoostRegressor(cat_features=categorical_features,\n",
    "                                    metric_period=50,\n",
    "                                    loss_function=\"RMSE\",\n",
    "                                    eval_metric=\"RMSE\",\n",
    "                                    #task_type=\"GPU\",\n",
    "                                    random_seed=42\n",
    "                                      )\n",
    "cb_benchmarking.fit(X_train, y_train)\n",
    "y_pred_cb = cb_benchmarking.predict(X_test)\n",
    "\n",
    "print(f'RMSE for best regressor on thest data: {rmse_loss_fct(y_test, y_pred_cb)}')"
   ]
  },
  {
   "cell_type": "markdown",
   "id": "abandoned-radiation",
   "metadata": {},
   "source": [
    "### 3.4.2. Catboost Hyperparameter Tuning"
   ]
  },
  {
   "cell_type": "code",
   "execution_count": 36,
   "id": "everyday-animation",
   "metadata": {
    "scrolled": true
   },
   "outputs": [
    {
     "name": "stdout",
     "output_type": "stream",
     "text": [
      "0:\tlearn: 6324.8238633\ttest: 6326.1735931\tbest: 6326.1735931 (0)\ttotal: 132ms\tremaining: 1m 38s\n",
      "50:\tlearn: 2356.4476029\ttest: 2360.5113168\tbest: 2360.5113168 (50)\ttotal: 6.18s\tremaining: 1m 24s\n",
      "100:\tlearn: 2085.0369906\ttest: 2084.5103796\tbest: 2084.5103796 (100)\ttotal: 13s\tremaining: 1m 23s\n",
      "150:\tlearn: 2013.7267704\ttest: 2012.8748477\tbest: 2012.8748477 (150)\ttotal: 19.8s\tremaining: 1m 18s\n",
      "200:\tlearn: 1971.8259255\ttest: 1972.8423519\tbest: 1972.8423519 (200)\ttotal: 25.5s\tremaining: 1m 9s\n",
      "250:\tlearn: 1942.4665273\ttest: 1944.6743966\tbest: 1944.6743966 (250)\ttotal: 31.1s\tremaining: 1m 1s\n",
      "300:\tlearn: 1921.1479850\ttest: 1924.7938153\tbest: 1924.7938153 (300)\ttotal: 36.3s\tremaining: 54.1s\n",
      "350:\tlearn: 1903.6412143\ttest: 1909.7113656\tbest: 1909.7113656 (350)\ttotal: 41.3s\tremaining: 46.9s\n",
      "400:\tlearn: 1887.7848567\ttest: 1895.1965319\tbest: 1895.1965319 (400)\ttotal: 47s\tremaining: 40.9s\n",
      "450:\tlearn: 1875.1761307\ttest: 1884.6723737\tbest: 1884.6723737 (450)\ttotal: 52.2s\tremaining: 34.6s\n",
      "500:\tlearn: 1864.9040568\ttest: 1875.8219656\tbest: 1875.8219656 (500)\ttotal: 57.6s\tremaining: 28.6s\n",
      "550:\tlearn: 1854.5857671\ttest: 1867.6479821\tbest: 1867.6479821 (550)\ttotal: 1m 3s\tremaining: 23s\n",
      "600:\tlearn: 1845.6577255\ttest: 1860.0518887\tbest: 1860.0518887 (600)\ttotal: 1m 9s\tremaining: 17.2s\n",
      "650:\tlearn: 1838.0098523\ttest: 1853.6769770\tbest: 1853.6769770 (650)\ttotal: 1m 16s\tremaining: 11.6s\n",
      "700:\tlearn: 1831.9107504\ttest: 1848.9641679\tbest: 1848.9641679 (700)\ttotal: 1m 21s\tremaining: 5.71s\n",
      "749:\tlearn: 1825.2660106\ttest: 1843.4161168\tbest: 1843.4161168 (749)\ttotal: 1m 26s\tremaining: 0us\n",
      "\n",
      "bestTest = 1843.416117\n",
      "bestIteration = 749\n",
      "\n",
      "0:\tloss: 1843.4161168\tbest: 1843.4161168 (0)\ttotal: 1m 27s\tremaining: 5m 48s\n",
      "0:\tlearn: 6043.0064129\ttest: 6044.0128694\tbest: 6044.0128694 (0)\ttotal: 204ms\tremaining: 2m 32s\n",
      "50:\tlearn: 1971.1787845\ttest: 1973.4986163\tbest: 1973.4986163 (50)\ttotal: 8.62s\tremaining: 1m 58s\n",
      "100:\tlearn: 1878.0539267\ttest: 1888.4064584\tbest: 1888.4064584 (100)\ttotal: 16.9s\tremaining: 1m 48s\n",
      "150:\tlearn: 1828.5241874\ttest: 1847.9243335\tbest: 1847.9243335 (150)\ttotal: 25.1s\tremaining: 1m 39s\n",
      "200:\tlearn: 1795.9756691\ttest: 1824.1615370\tbest: 1824.1615370 (200)\ttotal: 34s\tremaining: 1m 32s\n",
      "250:\tlearn: 1773.9138886\ttest: 1808.6251516\tbest: 1808.6251516 (250)\ttotal: 43.4s\tremaining: 1m 26s\n",
      "300:\tlearn: 1756.9671288\ttest: 1797.0324668\tbest: 1797.0324668 (300)\ttotal: 52.5s\tremaining: 1m 18s\n",
      "350:\tlearn: 1741.9235117\ttest: 1787.9814698\tbest: 1787.9814698 (350)\ttotal: 1m 1s\tremaining: 1m 10s\n",
      "400:\tlearn: 1729.3526076\ttest: 1781.1761016\tbest: 1781.1761016 (400)\ttotal: 1m 10s\tremaining: 1m 1s\n",
      "450:\tlearn: 1718.8351398\ttest: 1775.4013688\tbest: 1775.4013688 (450)\ttotal: 1m 21s\tremaining: 53.9s\n",
      "500:\tlearn: 1708.8905897\ttest: 1769.7162094\tbest: 1769.7162094 (500)\ttotal: 1m 32s\tremaining: 46.1s\n",
      "550:\tlearn: 1699.3066892\ttest: 1763.4543475\tbest: 1763.4543475 (550)\ttotal: 1m 42s\tremaining: 37.1s\n",
      "600:\tlearn: 1691.7555218\ttest: 1760.4856133\tbest: 1760.4856133 (600)\ttotal: 1m 51s\tremaining: 27.7s\n",
      "650:\tlearn: 1683.7042750\ttest: 1756.8419460\tbest: 1756.8419460 (650)\ttotal: 2m 1s\tremaining: 18.4s\n",
      "700:\tlearn: 1676.4050081\ttest: 1753.1579154\tbest: 1753.1579154 (700)\ttotal: 2m 10s\tremaining: 9.11s\n",
      "749:\tlearn: 1669.1801013\ttest: 1749.7717145\tbest: 1749.7717145 (749)\ttotal: 2m 19s\tremaining: 0us\n",
      "\n",
      "bestTest = 1749.771714\n",
      "bestIteration = 749\n",
      "\n",
      "1:\tloss: 1749.7717145\tbest: 1749.7717145 (1)\ttotal: 3m 46s\tremaining: 5m 40s\n",
      "0:\tlearn: 6312.5077032\ttest: 6313.2764020\tbest: 6313.2764020 (0)\ttotal: 214ms\tremaining: 2m 40s\n",
      "50:\tlearn: 2206.1522652\ttest: 2210.6870129\tbest: 2210.6870129 (50)\ttotal: 9.25s\tremaining: 2m 6s\n",
      "100:\tlearn: 1975.4968739\ttest: 1978.2296060\tbest: 1978.2296060 (100)\ttotal: 17.9s\tremaining: 1m 55s\n",
      "150:\tlearn: 1916.2462764\ttest: 1923.7474280\tbest: 1923.7474280 (150)\ttotal: 27.2s\tremaining: 1m 47s\n",
      "200:\tlearn: 1880.2878209\ttest: 1889.9944370\tbest: 1889.9944370 (200)\ttotal: 36.3s\tremaining: 1m 39s\n",
      "250:\tlearn: 1855.1366480\ttest: 1868.4678266\tbest: 1868.4678266 (250)\ttotal: 46.5s\tremaining: 1m 32s\n",
      "300:\tlearn: 1831.2689085\ttest: 1849.0170126\tbest: 1849.0170126 (300)\ttotal: 57.2s\tremaining: 1m 25s\n",
      "350:\tlearn: 1815.1354205\ttest: 1835.6794298\tbest: 1835.6794298 (350)\ttotal: 1m 6s\tremaining: 1m 15s\n",
      "400:\tlearn: 1803.6221222\ttest: 1827.5455148\tbest: 1827.5455148 (400)\ttotal: 1m 16s\tremaining: 1m 6s\n",
      "450:\tlearn: 1793.1094254\ttest: 1821.1078163\tbest: 1821.1078163 (450)\ttotal: 1m 26s\tremaining: 57.5s\n",
      "500:\tlearn: 1783.0170988\ttest: 1812.9877487\tbest: 1812.9877487 (500)\ttotal: 1m 38s\tremaining: 48.9s\n",
      "550:\tlearn: 1772.3624655\ttest: 1805.0427316\tbest: 1805.0427316 (550)\ttotal: 1m 48s\tremaining: 39.4s\n",
      "600:\tlearn: 1764.8713516\ttest: 1799.6008061\tbest: 1799.6008061 (600)\ttotal: 2m\tremaining: 29.8s\n",
      "650:\tlearn: 1759.5450699\ttest: 1796.3375704\tbest: 1796.3375704 (650)\ttotal: 2m 9s\tremaining: 19.7s\n",
      "700:\tlearn: 1753.2308680\ttest: 1792.6873379\tbest: 1792.6873379 (700)\ttotal: 2m 19s\tremaining: 9.73s\n",
      "749:\tlearn: 1748.0163709\ttest: 1789.4236628\tbest: 1789.4236628 (749)\ttotal: 2m 27s\tremaining: 0us\n",
      "\n",
      "bestTest = 1789.423663\n",
      "bestIteration = 749\n",
      "\n",
      "2:\tloss: 1789.4236628\tbest: 1749.7717145 (1)\ttotal: 6m 14s\tremaining: 4m 9s\n",
      "0:\tlearn: 6043.0064129\ttest: 6044.0128694\tbest: 6044.0128694 (0)\ttotal: 214ms\tremaining: 3m 33s\n",
      "50:\tlearn: 1971.1787845\ttest: 1973.4986163\tbest: 1973.4986163 (50)\ttotal: 8.52s\tremaining: 2m 38s\n",
      "100:\tlearn: 1878.0539267\ttest: 1888.4064584\tbest: 1888.4064584 (100)\ttotal: 16.3s\tremaining: 2m 24s\n",
      "150:\tlearn: 1828.5241874\ttest: 1847.9243335\tbest: 1847.9243335 (150)\ttotal: 24.3s\tremaining: 2m 16s\n",
      "200:\tlearn: 1795.9756691\ttest: 1824.1615370\tbest: 1824.1615370 (200)\ttotal: 33s\tremaining: 2m 11s\n",
      "250:\tlearn: 1773.9138886\ttest: 1808.6251516\tbest: 1808.6251516 (250)\ttotal: 42.1s\tremaining: 2m 5s\n",
      "300:\tlearn: 1756.9671288\ttest: 1797.0324668\tbest: 1797.0324668 (300)\ttotal: 50.1s\tremaining: 1m 56s\n",
      "350:\tlearn: 1741.9235117\ttest: 1787.9814698\tbest: 1787.9814698 (350)\ttotal: 58.7s\tremaining: 1m 48s\n",
      "400:\tlearn: 1729.3526076\ttest: 1781.1761016\tbest: 1781.1761016 (400)\ttotal: 1m 7s\tremaining: 1m 40s\n",
      "450:\tlearn: 1718.8351398\ttest: 1775.4013688\tbest: 1775.4013688 (450)\ttotal: 1m 15s\tremaining: 1m 31s\n",
      "500:\tlearn: 1708.8905897\ttest: 1769.7162094\tbest: 1769.7162094 (500)\ttotal: 1m 23s\tremaining: 1m 23s\n",
      "550:\tlearn: 1699.3066892\ttest: 1763.4543475\tbest: 1763.4543475 (550)\ttotal: 1m 32s\tremaining: 1m 15s\n",
      "600:\tlearn: 1691.7555218\ttest: 1760.4856133\tbest: 1760.4856133 (600)\ttotal: 1m 41s\tremaining: 1m 7s\n",
      "650:\tlearn: 1683.7042750\ttest: 1756.8419460\tbest: 1756.8419460 (650)\ttotal: 1m 49s\tremaining: 58.9s\n",
      "700:\tlearn: 1676.4050081\ttest: 1753.1579154\tbest: 1753.1579154 (700)\ttotal: 1m 58s\tremaining: 50.7s\n",
      "750:\tlearn: 1669.1611870\ttest: 1749.7727671\tbest: 1749.7727671 (750)\ttotal: 2m 7s\tremaining: 42.2s\n",
      "800:\tlearn: 1663.5979947\ttest: 1747.5253071\tbest: 1747.5253071 (800)\ttotal: 2m 15s\tremaining: 33.8s\n",
      "850:\tlearn: 1658.2117251\ttest: 1745.1310264\tbest: 1745.1310264 (850)\ttotal: 2m 24s\tremaining: 25.3s\n",
      "900:\tlearn: 1652.8533463\ttest: 1742.9861294\tbest: 1742.9861294 (900)\ttotal: 2m 33s\tremaining: 16.8s\n",
      "950:\tlearn: 1648.6380370\ttest: 1741.7939556\tbest: 1741.7939556 (950)\ttotal: 2m 41s\tremaining: 8.34s\n",
      "999:\tlearn: 1644.1589072\ttest: 1740.0105535\tbest: 1740.0105535 (999)\ttotal: 2m 50s\tremaining: 0us\n",
      "\n",
      "bestTest = 1740.010553\n",
      "bestIteration = 999\n",
      "\n",
      "3:\tloss: 1740.0105535\tbest: 1740.0105535 (3)\ttotal: 9m 5s\tremaining: 2m 16s\n",
      "0:\tlearn: 6043.5365158\ttest: 6044.5319282\tbest: 6044.5319282 (0)\ttotal: 209ms\tremaining: 3m 29s\n",
      "50:\tlearn: 1978.9582291\ttest: 1981.8875986\tbest: 1981.8875986 (50)\ttotal: 10s\tremaining: 3m 6s\n",
      "100:\tlearn: 1879.5375948\ttest: 1891.5530940\tbest: 1891.5530940 (100)\ttotal: 21.3s\tremaining: 3m 9s\n",
      "150:\tlearn: 1833.2389123\ttest: 1853.7719869\tbest: 1853.7719869 (150)\ttotal: 32.2s\tremaining: 3m\n",
      "200:\tlearn: 1800.9384466\ttest: 1828.6898932\tbest: 1828.6898932 (200)\ttotal: 42.2s\tremaining: 2m 47s\n",
      "250:\tlearn: 1778.3558291\ttest: 1812.7502392\tbest: 1812.7502392 (250)\ttotal: 50.7s\tremaining: 2m 31s\n",
      "300:\tlearn: 1761.6643167\ttest: 1802.1541253\tbest: 1802.1541253 (300)\ttotal: 59.6s\tremaining: 2m 18s\n",
      "350:\tlearn: 1746.4715052\ttest: 1791.1838726\tbest: 1791.1838726 (350)\ttotal: 1m 8s\tremaining: 2m 6s\n",
      "400:\tlearn: 1734.5264093\ttest: 1783.2578828\tbest: 1783.2578828 (400)\ttotal: 1m 16s\tremaining: 1m 54s\n",
      "450:\tlearn: 1725.2665767\ttest: 1778.4381071\tbest: 1778.4381071 (450)\ttotal: 1m 25s\tremaining: 1m 43s\n",
      "500:\tlearn: 1717.3537149\ttest: 1774.7064958\tbest: 1774.7064958 (500)\ttotal: 1m 34s\tremaining: 1m 33s\n",
      "550:\tlearn: 1710.2450841\ttest: 1770.8334051\tbest: 1770.8334051 (550)\ttotal: 1m 43s\tremaining: 1m 24s\n",
      "600:\tlearn: 1703.7472861\ttest: 1767.6526732\tbest: 1767.6526732 (600)\ttotal: 1m 51s\tremaining: 1m 14s\n",
      "650:\tlearn: 1696.6712882\ttest: 1764.7040637\tbest: 1764.7040637 (650)\ttotal: 2m\tremaining: 1m 4s\n",
      "700:\tlearn: 1690.3044806\ttest: 1761.1860478\tbest: 1761.1860478 (700)\ttotal: 2m 9s\tremaining: 55.1s\n",
      "750:\tlearn: 1683.7268848\ttest: 1758.5053517\tbest: 1758.5053517 (750)\ttotal: 2m 18s\tremaining: 45.9s\n",
      "800:\tlearn: 1678.0098653\ttest: 1755.6963226\tbest: 1755.6963226 (800)\ttotal: 2m 26s\tremaining: 36.5s\n",
      "850:\tlearn: 1671.9955499\ttest: 1752.8221580\tbest: 1752.8221580 (850)\ttotal: 2m 35s\tremaining: 27.3s\n",
      "900:\tlearn: 1666.3212203\ttest: 1750.4156893\tbest: 1750.4156893 (900)\ttotal: 2m 45s\tremaining: 18.2s\n",
      "950:\tlearn: 1661.8962940\ttest: 1747.5594352\tbest: 1747.5594352 (950)\ttotal: 2m 58s\tremaining: 9.18s\n",
      "999:\tlearn: 1657.9940879\ttest: 1746.3709973\tbest: 1746.3709973 (999)\ttotal: 3m 7s\tremaining: 0us\n",
      "\n",
      "bestTest = 1746.370997\n",
      "bestIteration = 999\n",
      "\n",
      "4:\tloss: 1746.3709973\tbest: 1740.0105535 (3)\ttotal: 12m 13s\tremaining: 0us\n",
      "Estimating final quality...\n",
      "0:\tlearn: 6051.2371110\ttest: 6050.6799314\tbest: 6050.6799314 (0)\n",
      "50:\tlearn: 1973.8533680\ttest: 1976.3111872\tbest: 1976.3111872 (50)\n",
      "100:\tlearn: 1881.0037526\ttest: 1893.4218867\tbest: 1893.4218867 (100)\n",
      "150:\tlearn: 1832.9429310\ttest: 1854.2513599\tbest: 1854.2513599 (150)\n",
      "200:\tlearn: 1800.4185059\ttest: 1829.5233745\tbest: 1829.5233745 (200)\ttotal: 1m 56s\tremaining: 7m 43s\n",
      "250:\tlearn: 1776.2009568\ttest: 1813.5490366\tbest: 1813.5490366 (250)\ttotal: 2m 27s\tremaining: 7m 20s\n",
      "300:\tlearn: 1758.7730620\ttest: 1801.9746911\tbest: 1801.9746911 (300)\n",
      "350:\tlearn: 1742.7561604\ttest: 1792.1476812\tbest: 1792.1476812 (350)\ttotal: 3m 23s\tremaining: 6m 15s\n",
      "400:\tlearn: 1728.6239405\ttest: 1784.1925751\tbest: 1784.1925751 (400)\n",
      "450:\tlearn: 1716.9185081\ttest: 1777.9138148\tbest: 1777.9138148 (450)\ttotal: 4m 19s\tremaining: 5m 15s\n",
      "500:\tlearn: 1706.3723230\ttest: 1772.6431165\tbest: 1772.6431165 (500)\n",
      "550:\tlearn: 1697.5569985\ttest: 1768.7093725\tbest: 1768.7093725 (550)\ttotal: 5m 21s\tremaining: 4m 21s\n",
      "600:\tlearn: 1688.2539470\ttest: 1764.6652336\tbest: 1764.6652336 (600)\n",
      "650:\tlearn: 1680.7959949\ttest: 1761.3239822\tbest: 1761.3239822 (650)\n",
      "700:\tlearn: 1673.5364420\ttest: 1758.5631033\tbest: 1758.5631033 (700)\ttotal: 7m 4s\tremaining: 3m\n",
      "750:\tlearn: 1666.9786112\ttest: 1755.8810409\tbest: 1755.8810409 (750)\n",
      "800:\tlearn: 1659.9274077\ttest: 1753.1257495\tbest: 1753.1257495 (800)\ttotal: 8m 8s\tremaining: 2m 1s\n",
      "850:\tlearn: 1654.0147303\ttest: 1750.8504177\tbest: 1750.8504177 (850)\n",
      "900:\tlearn: 1648.1678708\ttest: 1748.8597623\tbest: 1748.8597623 (900)\ttotal: 9m 8s\tremaining: 1m\n",
      "950:\tlearn: 1641.7420929\ttest: 1746.6499136\tbest: 1746.6499136 (950)\n",
      "999:\tlearn: 1636.1573188\ttest: 1745.0524564\tbest: 1745.0524564 (999)\ttotal: 10m 9s\tremaining: 0us\n",
      "Wall time: 26min 31s\n"
     ]
    }
   ],
   "source": [
    "%%time\n",
    "# Assembling Param gid and regressor for random search\n",
    "cat_rand_reg = CatBoostRegressor(cat_features=categorical_features,\n",
    "                                 metric_period=50,\n",
    "                                 loss_function=\"RMSE\",\n",
    "                                 eval_metric=\"RMSE\",\n",
    "                                 #task_type=\"GPU\",\n",
    "                                 random_seed=42\n",
    "                                )\n",
    "\n",
    "param_grid_cat = {'learning_rate': [0.05, 0.1],\n",
    "                  'depth': [4, 6],\n",
    "                  'l2_leaf_reg': [3, 5, 7],\n",
    "                  'iterations': [500, 750, 1000]\n",
    "                 }\n",
    "\n",
    "randomized_search_result = cat_rand_reg.randomized_search(param_grid_cat,\n",
    "                                                          X=X_train,\n",
    "                                                          y=y_train,\n",
    "                                                          cv=3,\n",
    "                                                          n_iter=5,\n",
    "                                                          partition_random_seed=RANDOM_STATE)\n"
   ]
  },
  {
   "cell_type": "code",
   "execution_count": 37,
   "id": "technical-anatomy",
   "metadata": {},
   "outputs": [
    {
     "data": {
      "text/plain": [
       "{'depth': 6, 'l2_leaf_reg': 3, 'iterations': 1000, 'learning_rate': 0.1}"
      ]
     },
     "execution_count": 37,
     "metadata": {},
     "output_type": "execute_result"
    }
   ],
   "source": [
    "randomized_search_result['params']"
   ]
  },
  {
   "cell_type": "code",
   "execution_count": 39,
   "id": "pediatric-wings",
   "metadata": {},
   "outputs": [
    {
     "name": "stdout",
     "output_type": "stream",
     "text": [
      "0:\tlearn: 4303.5799663\ttotal: 231ms\tremaining: 3m 50s\n",
      "50:\tlearn: 1961.6370368\ttotal: 10.9s\tremaining: 3m 23s\n",
      "100:\tlearn: 1873.1206153\ttotal: 22.5s\tremaining: 3m 20s\n",
      "150:\tlearn: 1827.5261485\ttotal: 33.5s\tremaining: 3m 8s\n",
      "200:\tlearn: 1796.1538604\ttotal: 45.4s\tremaining: 3m\n",
      "250:\tlearn: 1774.9658471\ttotal: 56.5s\tremaining: 2m 48s\n",
      "300:\tlearn: 1757.0388351\ttotal: 1m 7s\tremaining: 2m 36s\n",
      "350:\tlearn: 1743.0394304\ttotal: 1m 18s\tremaining: 2m 25s\n",
      "400:\tlearn: 1730.3538805\ttotal: 1m 30s\tremaining: 2m 15s\n",
      "450:\tlearn: 1720.5237118\ttotal: 1m 43s\tremaining: 2m 5s\n",
      "500:\tlearn: 1711.0866902\ttotal: 1m 56s\tremaining: 1m 56s\n",
      "550:\tlearn: 1702.7667649\ttotal: 2m 9s\tremaining: 1m 45s\n",
      "600:\tlearn: 1694.8873671\ttotal: 2m 22s\tremaining: 1m 34s\n",
      "650:\tlearn: 1687.8808300\ttotal: 2m 33s\tremaining: 1m 22s\n",
      "700:\tlearn: 1680.5329656\ttotal: 2m 44s\tremaining: 1m 10s\n",
      "750:\tlearn: 1673.6075042\ttotal: 2m 55s\tremaining: 58.1s\n",
      "800:\tlearn: 1668.8993340\ttotal: 3m 8s\tremaining: 46.7s\n",
      "850:\tlearn: 1662.7178204\ttotal: 3m 20s\tremaining: 35.1s\n",
      "900:\tlearn: 1658.3421103\ttotal: 3m 35s\tremaining: 23.7s\n",
      "950:\tlearn: 1653.7364446\ttotal: 3m 48s\tremaining: 11.8s\n",
      "999:\tlearn: 1649.5422828\ttotal: 4m\tremaining: 0us\n",
      "Best RSME of random catboost estimator: 1145.590061992457\n"
     ]
    }
   ],
   "source": [
    "cat_rand_test = CatBoostRegressor(cat_features=categorical_features,\n",
    "                                 metric_period=50,\n",
    "                                 loss_function=\"RMSE\",\n",
    "                                 eval_metric=\"RMSE\",\n",
    "                                 #task_type=\"GPU\",\n",
    "                                 random_seed=42,\n",
    "                                 **randomized_search_result['params']\n",
    "                                )\n",
    "cat_rand_test.fit(X_train, y_train)\n",
    "ypred_cat = cat_rand_test.predict(X_test)\n",
    "print(f'Best RSME of random catboost estimator: {rmse_loss_fct(y_test, ypred_cat)}')"
   ]
  },
  {
   "cell_type": "markdown",
   "id": "exclusive-enzyme",
   "metadata": {},
   "source": [
    "> Due to time consuming training, gridsearch has not been carried out  \n",
    "> **Observations:**\n",
    "> - The RMSE is significant lower than the otter boost algorithms as well as the baseline"
   ]
  },
  {
   "cell_type": "markdown",
   "id": "presidential-experience",
   "metadata": {},
   "source": [
    "# 4. Conclusion"
   ]
  },
  {
   "cell_type": "code",
   "execution_count": 40,
   "id": "initial-horizon",
   "metadata": {},
   "outputs": [
    {
     "data": {
      "text/plain": [
       "{'catboost': 1145.590061992457,\n",
       " 'lightgbm': 1824.3915931962074,\n",
       " 'Random_forest': 1743.359742423243,\n",
       " 'Linreg': 3004.8689256118346,\n",
       " 'Dummy': 4581.104357818362}"
      ]
     },
     "execution_count": 40,
     "metadata": {},
     "output_type": "execute_result"
    }
   ],
   "source": [
    "# Aggregating cross validation results\n",
    "scores = {\n",
    "    'catboost': rmse_loss_fct(y_test, ypred_cat),\n",
    "    'lightgbm': abs(light_reg_cv.mean()) ,\n",
    "    'Random_forest': mean_cv_cb,\n",
    "    'Linreg': rmse_loss_fct(y_pred_lin, y_test_ohe),\n",
    "    'Dummy': rmse_loss_fct(dummy_reg_test.predict(X_test_ohe), y_test_ohe)\n",
    "}\n",
    "scores"
   ]
  },
  {
   "cell_type": "code",
   "execution_count": 41,
   "id": "ordered-performer",
   "metadata": {},
   "outputs": [
    {
     "data": {
      "image/png": "[encoded data removed]",
      "text/plain": [
       "<Figure size 432x288 with 1 Axes>"
      ]
     },
     "metadata": {
      "needs_background": "light"
     },
     "output_type": "display_data"
    }
   ],
   "source": [
    "# Plotting Cross validation results\n",
    "pd.DataFrame(scores, index=[0]) \\\n",
    "  .plot(kind='bar', \n",
    "        title='CV Model Evaluation',\n",
    "        xlabel='Model',\n",
    "        ylabel='RMSE');"
   ]
  },
  {
   "cell_type": "markdown",
   "id": "single-final",
   "metadata": {},
   "source": [
    "**During the project the following steps have been carried out:**\n",
    "- Data inspection\n",
    "- Data preprocessing\n",
    "    - Sort out unnecessary features\n",
    "    - Filling missing values \n",
    "    - Clean data\n",
    "- Model Training\n",
    "    - Baseline for evaluation\n",
    "    - Random Forest regressor\n",
    "    - LightGBM\n",
    "    - Catboost  \n",
    " \n",
    " \n",
    " For every model first the general performance has been evaluated by cross validation and a standard model. \n",
    " In the next step a random grid search has been carried out before a final grid search and eavaluation of the best found model.\n",
    " \n",
    " Comparing the cross validation values it can be seen, that the catboost algorithm is by far the best fit for the given problem.\n",
    " The same is visible in the final results."
   ]
  }
 ],
 "metadata": {
  "kernelspec": {
   "display_name": "Python 3",
   "language": "python",
   "name": "python3"
  },
  "language_info": {
   "codemirror_mode": {
    "name": "ipython",
    "version": 3
   },
   "file_extension": ".py",
   "mimetype": "text/x-python",
   "name": "python",
   "nbconvert_exporter": "python",
   "pygments_lexer": "ipython3",
   "version": "3.7.1"
  },
  "toc": {
   "base_numbering": 1,
   "nav_menu": {},
   "number_sections": true,
   "sideBar": true,
   "skip_h1_title": true,
   "title_cell": "Table of Contents",
   "title_sidebar": "Contents",
   "toc_cell": false,
   "toc_position": {},
   "toc_section_display": true,
   "toc_window_display": false
  }
 },
 "nbformat": 4,
 "nbformat_minor": 5
}
